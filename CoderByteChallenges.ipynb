{
 "cells": [
  {
   "cell_type": "markdown",
   "metadata": {},
   "source": [
    "# Easy"
   ]
  },
  {
   "cell_type": "markdown",
   "metadata": {},
   "source": [
    "**Ex Oh**"
   ]
  },
  {
   "cell_type": "code",
   "execution_count": 41,
   "metadata": {},
   "outputs": [],
   "source": [
    "# Ex Oh\n",
    "def ExOh(str):\n",
    "\n",
    "    if str.count(\"x\") == str.count(\"o\"):\n",
    "        return \"true\"\n",
    "    else:\n",
    "        return \"false\""
   ]
  },
  {
   "cell_type": "markdown",
   "metadata": {},
   "source": [
    "**Two Sum**"
   ]
  },
  {
   "cell_type": "code",
   "execution_count": 42,
   "metadata": {},
   "outputs": [],
   "source": [
    "# Two Sum\n",
    "from itertools import combinations\n",
    "\n",
    "\n",
    "def TwoSum(arr):\n",
    "\n",
    "    num_list = []\n",
    "    str_list = []\n",
    "    result = \"\"\n",
    "\n",
    "    sum_num = arr[0]\n",
    "    arr.pop(0)\n",
    "\n",
    "    for i in list(combinations(arr, 2)):\n",
    "        if i[0] + i[1] == sum_num:\n",
    "            result += \"{item1},{item2} \".format(item1=i[0], item2=i[1])\n",
    "\n",
    "    return result if len(result) > 1 else -1"
   ]
  },
  {
   "cell_type": "markdown",
   "metadata": {},
   "source": [
    "**Fizz Buzz**"
   ]
  },
  {
   "cell_type": "code",
   "execution_count": 43,
   "metadata": {},
   "outputs": [],
   "source": [
    "# FizzBuzz\n",
    "def FizzBuzz(num):\n",
    "\n",
    "    num_list = range(1, num+1)\n",
    "    str_list = []\n",
    "\n",
    "    for i in num_list:\n",
    "        if i % 15 == 0:\n",
    "            str_list.append(\"FizzBuzz\")\n",
    "        elif i % 3 == 0:\n",
    "            str_list.append(\"Fizz\")\n",
    "        elif i % 5 == 0:\n",
    "            str_list.append(\"Buzz\")\n",
    "        else:\n",
    "            str_list.append(str(i))\n",
    "\n",
    "    # code goes here\n",
    "    return \" \".join(str_list)"
   ]
  },
  {
   "cell_type": "markdown",
   "metadata": {},
   "source": [
    "**Mean Mode**"
   ]
  },
  {
   "cell_type": "code",
   "execution_count": 44,
   "metadata": {},
   "outputs": [],
   "source": [
    "# Mean Mode\n",
    "from statistics import mode\n",
    "import numpy as np\n",
    "\n",
    "\n",
    "def MeanMode(arr):\n",
    "    sum = 0\n",
    "    for i in arr:\n",
    "        sum += i\n",
    "    mean = int(sum/len(arr))\n",
    "\n",
    "    mode = int(np.percentile(arr, 50))\n",
    "\n",
    "    if mean == mode:\n",
    "        return 1\n",
    "    else:\n",
    "        return 0"
   ]
  },
  {
   "cell_type": "markdown",
   "metadata": {},
   "source": [
    "**H Distance**"
   ]
  },
  {
   "cell_type": "code",
   "execution_count": 45,
   "metadata": {},
   "outputs": [],
   "source": [
    "# H Distance\n",
    "def HDistance(strArr):\n",
    "\n",
    "    str1 = strArr[0]\n",
    "    str2 = strArr[1]\n",
    "    count = 0\n",
    "\n",
    "    zip_str = list(zip(str1, str2))\n",
    "\n",
    "    for i in zip_str:\n",
    "        if i[0] != i[1]:\n",
    "            count += 1\n",
    "\n",
    "    # code goes here\n",
    "    return count"
   ]
  },
  {
   "cell_type": "markdown",
   "metadata": {},
   "source": [
    "**Bitwise One**"
   ]
  },
  {
   "cell_type": "code",
   "execution_count": 46,
   "metadata": {},
   "outputs": [],
   "source": [
    "# Bitwise One\n",
    "def BitwiseOne(strArr):\n",
    "\n",
    "    str1 = strArr[0]\n",
    "    str2 = strArr[1]\n",
    "\n",
    "    def unpack_str(str):\n",
    "        char_list = []\n",
    "        for s in str:\n",
    "            char_list.append(s)\n",
    "\n",
    "        return char_list\n",
    "\n",
    "    list1 = unpack_str(str1)\n",
    "    list2 = unpack_str(str2)\n",
    "\n",
    "    new_list = []\n",
    "    for item in zip(list1, list2):\n",
    "        if (item[0] == \"0\") and (item[1] == \"0\"):\n",
    "            new_list.append(\"0\")\n",
    "        else:\n",
    "            new_list.append(\"1\")\n",
    "\n",
    "    # code goes here\n",
    "    return \"\".join(new_list)"
   ]
  },
  {
   "cell_type": "markdown",
   "metadata": {},
   "source": [
    "**Bitwise Two**"
   ]
  },
  {
   "cell_type": "code",
   "execution_count": 47,
   "metadata": {},
   "outputs": [],
   "source": [
    "# Bitwise Two\n",
    "def BitwiseTwo(strArr):\n",
    "\n",
    "    str1 = strArr[0]\n",
    "    str2 = strArr[1]\n",
    "    new_str = \"\"\n",
    "\n",
    "    for i in range(len(str2)):\n",
    "        if (str1[i] == \"1\") and (str2[i] == \"1\"):\n",
    "            new_str += \"1\"\n",
    "        else:\n",
    "            new_str += \"0\"\n",
    "\n",
    "    # code goes here\n",
    "    return new_str"
   ]
  },
  {
   "cell_type": "markdown",
   "metadata": {},
   "source": [
    "**Group Totals**"
   ]
  },
  {
   "cell_type": "code",
   "execution_count": 48,
   "metadata": {},
   "outputs": [],
   "source": [
    "# Group totals\n",
    "# wrong test cases \n",
    "# [\"1:1\", \"2:1\", \"2:1\", \"10:3\", \"10:7\"] -- > 1:1,10:10,2:2\n",
    "def GroupTotals(strArr):\n",
    "    keys = [strArr[i].split(\":\")[0] for i in range(len(strArr))]\n",
    "    values = [int(strArr[i].split(\":\")[1]) for i in range(len(strArr))]\n",
    "    unique_keys = list(set(keys))  # B, Y, X\n",
    "    sum_list = []\n",
    "\n",
    "    for i in unique_keys:\n",
    "        sum_num = 0\n",
    "        for m in range(len(keys)):\n",
    "            if i == keys[m]:\n",
    "                #print(i, keys[m])\n",
    "                sum_num += values[m]\n",
    "\n",
    "        sum_list.append(sum_num)\n",
    "\n",
    "    return_list = []\n",
    "\n",
    "    for i in range(len(unique_keys)):\n",
    "        if sum_list[i] != 0:\n",
    "            return_list.append((unique_keys[i], sum_list[i]))\n",
    "\n",
    "    return_list = [return_list[i][0] + \":\" +\n",
    "                   str(return_list[i][1]) for i in range(len(return_list))]\n",
    "\n",
    "    return \",\".join(sorted(return_list))  # sorting i duzeltmen lazım"
   ]
  },
  {
   "cell_type": "markdown",
   "metadata": {},
   "source": [
    "**Largest Pair**"
   ]
  },
  {
   "cell_type": "code",
   "execution_count": 49,
   "metadata": {},
   "outputs": [],
   "source": [
    "# Largest Pair\n",
    "def LargestPair(num):\n",
    "\n",
    "    str_num = str(num)\n",
    "    largest_num = 0\n",
    "\n",
    "    for i in range(len(str_num)-1):\n",
    "        if int(str_num[i:i+2]) > largest_num:\n",
    "            largest_num = int(str_num[i:i+2])\n",
    "\n",
    "    return largest_num"
   ]
  },
  {
   "cell_type": "markdown",
   "metadata": {},
   "source": [
    "**Longest Word**"
   ]
  },
  {
   "cell_type": "code",
   "execution_count": 50,
   "metadata": {},
   "outputs": [],
   "source": [
    "# Longest Word\n",
    "# non working test cases\n",
    "# \"a beautiful sentence^&!\" --> beautiful\n",
    "# \"letter after letter!!\" --> letter\n",
    "# \"a confusing /:sentence:/[ this is not!!!!!!!~\" --> confusing\n",
    "\n",
    "\n",
    "def LongestWord(sen):\n",
    "    nw = \"\"\n",
    "    for letter in sen:\n",
    "        if letter.isalpha() or letter.isnumeric():\n",
    "            nw += letter\n",
    "        else:\n",
    "            nw += \" \"\n",
    "    return max(nw.split(), key=len)"
   ]
  },
  {
   "cell_type": "code",
   "execution_count": 51,
   "metadata": {},
   "outputs": [
    {
     "data": {
      "text/plain": [
       "'confusing'"
      ]
     },
     "execution_count": 51,
     "metadata": {},
     "output_type": "execute_result"
    }
   ],
   "source": [
    "LongestWord(\"a confusing /:sentence:/[ this is not!!!!!!!~\")"
   ]
  },
  {
   "cell_type": "markdown",
   "metadata": {},
   "source": [
    "**Wave Sorting**"
   ]
  },
  {
   "cell_type": "code",
   "execution_count": 52,
   "metadata": {},
   "outputs": [],
   "source": [
    "# Wave Sorting\n",
    "# non working test cases\n",
    "# [0, 1, 2, 4, 1, 1, 1] --> false\n",
    "# [1, 1, 1] --> false\n",
    "\n",
    "\n",
    "def WaveSorting(arr):\n",
    "    N = len(arr)\n",
    "    arr.sort()\n",
    "    left = 0\n",
    "    right = N // 2\n",
    "    while left < (N // 2) and right < N:\n",
    "        if arr[right] > arr[left]:\n",
    "            left += 1\n",
    "            right += 1\n",
    "        else:\n",
    "            return 'false'\n",
    "    return 'true'"
   ]
  },
  {
   "cell_type": "markdown",
   "metadata": {},
   "source": [
    "Alphabet Soup"
   ]
  },
  {
   "cell_type": "code",
   "execution_count": 53,
   "metadata": {},
   "outputs": [],
   "source": [
    "# Alphabet Soup\n",
    "def AlphabetSoup(str):\n",
    "\n",
    "    # code goes here\n",
    "    return \"\".join(sorted(str))"
   ]
  },
  {
   "cell_type": "markdown",
   "metadata": {},
   "source": [
    "First Reverse"
   ]
  },
  {
   "cell_type": "code",
   "execution_count": 54,
   "metadata": {},
   "outputs": [],
   "source": [
    "# First Reverse\n",
    "def FirstReverse(str):\n",
    "\n",
    "    # code goes here\n",
    "    return str[::-1]"
   ]
  },
  {
   "cell_type": "markdown",
   "metadata": {},
   "source": [
    "Moving Median"
   ]
  },
  {
   "cell_type": "code",
   "execution_count": 55,
   "metadata": {},
   "outputs": [],
   "source": [
    "# Moving Median\n",
    "def MovingMedian(arr):\n",
    "    N = arr[0]\n",
    "    arr.remove(arr[0])\n",
    "    #print(N, arr)\n",
    "    i = 0\n",
    "    median_list = []\n",
    "\n",
    "    if N > len(arr):\n",
    "        for t in range(1, len(arr)+1):\n",
    "            median_list.append(int(np.median(arr[i:i+t])))\n",
    "\n",
    "    else:\n",
    "        for t in range(1, N):\n",
    "            median_list.append(int(np.median(arr[i:i+t])))\n",
    "        for n in range(len(arr)-N+1):\n",
    "            median_list.append(int(np.median(arr[n:n+N])))\n",
    "\n",
    "    median_list = [str(i) for i in median_list]\n",
    "\n",
    "    # code goes here\n",
    "    return \",\".join(median_list)"
   ]
  },
  {
   "cell_type": "markdown",
   "metadata": {},
   "source": [
    "Number Stream"
   ]
  },
  {
   "cell_type": "code",
   "execution_count": 56,
   "metadata": {},
   "outputs": [],
   "source": [
    "# Number Stream\n",
    "def NumberStream(str):\n",
    "    str_list = list(str)\n",
    "    return_val = None\n",
    "\n",
    "    for i in range(len(str_list)):\n",
    "        inp = int(str_list[i])\n",
    "        #print (\"inp is\", int(str_list[i]))\n",
    "        match = 0\n",
    "\n",
    "        for j in range(i, min(len(str_list), i+inp)):\n",
    "            #print(\"ith el:\", str_list[i], \"jth el:\", str_list[j], \"i+inp.\", i+inp)\n",
    "            if str_list[i] == str_list[j]:\n",
    "                match += 1\n",
    "                if inp == match:\n",
    "                    return \"true\"\n",
    "\n",
    "    return \"false\""
   ]
  },
  {
   "cell_type": "markdown",
   "metadata": {},
   "source": [
    "Simple Adding"
   ]
  },
  {
   "cell_type": "code",
   "execution_count": 57,
   "metadata": {},
   "outputs": [],
   "source": [
    "# Simple Adding\n",
    "def SimpleAdding(num):\n",
    "\n",
    "    num_sum = 0\n",
    "    for i in range(num+1):\n",
    "        num_sum += i\n",
    "    # code goes here\n",
    "    return num_sum"
   ]
  },
  {
   "cell_type": "markdown",
   "metadata": {},
   "source": [
    "Array Matching"
   ]
  },
  {
   "cell_type": "code",
   "execution_count": 58,
   "metadata": {},
   "outputs": [],
   "source": [
    "# Array Matching\n",
    "def ArrayMatching(strArr):\n",
    "\n",
    "    str1 = strArr[0].strip(\"[]\")\n",
    "    str2 = strArr[1].strip(\"[]\")\n",
    "\n",
    "    str1 = [int(str1.split(\", \")[i]) for i in range(str1.count(\",\")+1)]\n",
    "    str2 = [int(str2.split(\", \")[i]) for i in range(str2.count(\",\")+1)]\n",
    "\n",
    "    new_list = []\n",
    "\n",
    "    len_dif = len(str1) - len(str2)\n",
    "\n",
    "    if len_dif > 0:\n",
    "        for i in range(len(str2)):\n",
    "            new_list.append(str1[i] + str2[i])\n",
    "\n",
    "        new_list = new_list + str1[len(str2):]\n",
    "\n",
    "    elif len_dif < 0:\n",
    "        for i in range(len(str1)):\n",
    "            new_list.append(str1[i] + str2[i])\n",
    "\n",
    "        new_list = new_list + str2[len(str1):]\n",
    "\n",
    "    else:\n",
    "        for i in range(len(str1)):\n",
    "            new_list.append(str1[i] + str2[i])\n",
    "\n",
    "    new_list = [str(i) for i in new_list]\n",
    "    # code goes here\n",
    "    return \"-\".join(new_list)"
   ]
  },
  {
   "cell_type": "markdown",
   "metadata": {},
   "source": [
    "Letter Changes"
   ]
  },
  {
   "cell_type": "code",
   "execution_count": 59,
   "metadata": {},
   "outputs": [],
   "source": [
    "# Letter Changes\n",
    "from string import ascii_letters\n",
    "# replace every letter with the following letter in alphabet\n",
    "# after that cpaitalize every vowel\n",
    "# return modified string\n",
    "\n",
    "\n",
    "def CapitalizeVowel(str):\n",
    "    str2 = \"\"\n",
    "    vowels = \"aeiuo\"\n",
    "\n",
    "    for s in str:\n",
    "        if s in vowels:\n",
    "            str2 += s.upper()\n",
    "        else:\n",
    "            str2 += s\n",
    "\n",
    "    return str2\n",
    "\n",
    "\n",
    "#print(CapitalizeVowel(\"fun times!\"))\n",
    "def LetterChanges(str):\n",
    "    alphabet = ascii_letters\n",
    "    new_str = \"\"\n",
    "    # print(alphabet)\n",
    "\n",
    "    for s in str:\n",
    "        if s in alphabet:\n",
    "            new_str += alphabet[alphabet.find(s)+1]\n",
    "        if s == \"z\":\n",
    "\n",
    "            new_str += \"a\"\n",
    "        if s == \"Z\":\n",
    "\n",
    "            new_str += \"A\"\n",
    "        if s not in alphabet:\n",
    "\n",
    "            new_str += s\n",
    "\n",
    "    capitalized = CapitalizeVowel(new_str)\n",
    "\n",
    "    return capitalized"
   ]
  },
  {
   "cell_type": "markdown",
   "metadata": {},
   "source": [
    "Other Products"
   ]
  },
  {
   "cell_type": "code",
   "execution_count": 60,
   "metadata": {},
   "outputs": [],
   "source": [
    "# Other Products\n",
    "def OtherProducts(arr):\n",
    "\n",
    "    return_list = []\n",
    "\n",
    "    def product(list):\n",
    "        result = 1\n",
    "        for i in list:\n",
    "            result *= i\n",
    "\n",
    "        return result\n",
    "\n",
    "    for i in range(len(arr)):\n",
    "        remove_el = arr[i]\n",
    "        arr.remove(remove_el)\n",
    "        return_list.append(product(arr))\n",
    "\n",
    "        arr.insert(i, remove_el)\n",
    "\n",
    "    return_list = [str(i) for i in return_list]\n",
    "    # code goes here\n",
    "    return \"-\".join(return_list)"
   ]
  },
  {
   "cell_type": "markdown",
   "metadata": {},
   "source": [
    "Product Digits"
   ]
  },
  {
   "cell_type": "code",
   "execution_count": 61,
   "metadata": {},
   "outputs": [],
   "source": [
    "# Product Digits\n",
    "def ProductDigits(num):\n",
    "    count = 0\n",
    "    divisors = []\n",
    "    sum_digits = 0\n",
    "    sum_digits_dict = {}\n",
    "\n",
    "    for i in range(1, num+1):\n",
    "        if num % i == 0:\n",
    "            divisors.append((i, int(num/i)))\n",
    "\n",
    "    str_divisors = [str(i[0]) + str(i[1]) for i in divisors]\n",
    "    return len(min(str_divisors, key=len))"
   ]
  },
  {
   "cell_type": "markdown",
   "metadata": {},
   "source": [
    "Rectangle Area"
   ]
  },
  {
   "cell_type": "code",
   "execution_count": 62,
   "metadata": {},
   "outputs": [],
   "source": [
    "# works for the following input : [\"(1 1)\",\"(1 3)\",\"(3 1)\",\"(3 3)\"]\n",
    "def RectangleArea(strArr):\n",
    "    def parse(p):\n",
    "        return p[1:-1].split(\" \")\n",
    "\n",
    "    x = [int(parse(p)[0]) for p in strArr]\n",
    "    # print(x)\n",
    "    y = [int(parse(p)[1]) for p in strArr]\n",
    "    # print(y)\n",
    "\n",
    "    return (max(x) - min(x)) * (max(y) - min(y))"
   ]
  },
  {
   "cell_type": "markdown",
   "metadata": {},
   "source": [
    "First Factorial"
   ]
  },
  {
   "cell_type": "code",
   "execution_count": 63,
   "metadata": {},
   "outputs": [],
   "source": [
    "# First Factorial\n",
    "def FirstFactorial(num):\n",
    "\n",
    "    fac_list = list(range(1, num+1))\n",
    "    factorial = 1\n",
    "\n",
    "    for i in fac_list:\n",
    "        factorial *= i\n",
    "\n",
    "    # code goes here\n",
    "    return factorial"
   ]
  },
  {
   "cell_type": "markdown",
   "metadata": {},
   "source": [
    "Next Palindrome"
   ]
  },
  {
   "cell_type": "code",
   "execution_count": 64,
   "metadata": {},
   "outputs": [],
   "source": [
    "# Next Palindrome\n",
    "# wrong test cases\n",
    "# 2 --> 3\n",
    "# 1 --> 2\n",
    "# 8 --> 9\n",
    "# 99 --> 101\n",
    "\n",
    "\n",
    "def NextPalindrome(num):\n",
    "\n",
    "    for i in range(num, 9999):\n",
    "        if num//10 < 1:\n",
    "            return num+1\n",
    "        str_i = str(i)\n",
    "        if str_i == str_i[::-1]:\n",
    "            return i"
   ]
  },
  {
   "cell_type": "code",
   "execution_count": 65,
   "metadata": {},
   "outputs": [
    {
     "data": {
      "text/plain": [
       "99"
      ]
     },
     "execution_count": 65,
     "metadata": {},
     "output_type": "execute_result"
    }
   ],
   "source": [
    "NextPalindrome(99)"
   ]
  },
  {
   "cell_type": "markdown",
   "metadata": {},
   "source": [
    "Power Set Count"
   ]
  },
  {
   "cell_type": "code",
   "execution_count": 66,
   "metadata": {},
   "outputs": [],
   "source": [
    "# Power Set Count\n",
    "def PowerSetCount(arr):\n",
    "\n",
    "  # code goes here\n",
    "  return 2**len(arr)"
   ]
  },
  {
   "cell_type": "markdown",
   "metadata": {},
   "source": [
    "Question Marks"
   ]
  },
  {
   "cell_type": "code",
   "execution_count": 67,
   "metadata": {},
   "outputs": [],
   "source": [
    "# Wrong Test Cases\n",
    "# \"aaaaaaarrrrr??????\" --> false\n",
    "# \"9???1???9??1???9\" --> false\n",
    "#  \"5??aaaaaaaaaaaaaaaaaaa?5?5\" --> false\n",
    "# \"5??aaaaaaaaaaaaaaaaaaa?5?a??5\" --> true\n",
    "'''\n",
    "* take str: single digits, letters, q_marks\n",
    "* check if there are exactly 3 q_marks every digit pair that sum is 10\n",
    " * return true\n",
    "*otherwise\n",
    " * return false\n",
    "'''\n",
    "\n",
    "\n",
    "def FinfTwoNumbersTen(string):\n",
    "    substrs = \"\"\n",
    "\n",
    "    for i in range(len(string)):\n",
    "        for j in range(i+1, len(string)):\n",
    "            if string[i].isdigit() and string[j].isdigit():\n",
    "                num1 = int(string[i])\n",
    "                num2 = int(string[j])\n",
    "                if num1 + num2 == 10:\n",
    "                    substrs = string[string.find(\n",
    "                        str(num1)):string.find(str(num2))+1]\n",
    "                    return substrs\n",
    "                if num1 + num2 != 10:\n",
    "                    return \"\"\n",
    "\n",
    "# print(FinfTwoNumbersTen(\"acc?7??sss?3rr1??????5\"))\n",
    "# print(type(FinfTwoNumbersTen(\"acc?7??sss?3rr1??????5\")))\n",
    "# print(FinfTwoNumbersTen(\"aa6?9\"))\n",
    "# print(type(FinfTwoNumbersTen(\"aa6?9\")))\n",
    "\n",
    "\n",
    "def QuestionsMarks(str):\n",
    "    if FinfTwoNumbersTen(str) == \"\":\n",
    "        return \"false\"\n",
    "    else:\n",
    "        if FinfTwoNumbersTen(str).count(\"?\") == 3:\n",
    "            return \"true\""
   ]
  },
  {
   "cell_type": "code",
   "execution_count": 68,
   "metadata": {},
   "outputs": [],
   "source": [
    "# başkasınınn question markı\n",
    "def QuestionsMarks(str):\n",
    "\n",
    "    idxs = [idx for idx in range(len(str)) if str[idx].isdigit()]\n",
    "    if len(idxs) <= 1:\n",
    "        return 'false'\n",
    "    found_ten = False\n",
    "    for ix in range(1, len(idxs)):\n",
    "        prev_idx = idxs[ix-1]\n",
    "        curr_idx = idxs[ix]\n",
    "        if int(str[prev_idx])+int(str[curr_idx]) == 10:\n",
    "            found_ten = True\n",
    "            cnt = str[prev_idx:curr_idx].count('?')\n",
    "            if cnt != 3:\n",
    "                return 'false'\n",
    "    return 'true' if found_ten else 'false'"
   ]
  },
  {
   "cell_type": "markdown",
   "metadata": {},
   "source": [
    "**Remove Brackets**"
   ]
  },
  {
   "cell_type": "code",
   "execution_count": 69,
   "metadata": {},
   "outputs": [],
   "source": [
    "def RemoveBrackets(string):\n",
    "\n",
    "    for _ in range(len(string)):\n",
    "        string = string.replace(\"()\", \"\")\n",
    "\n",
    "    return len(string)"
   ]
  },
  {
   "cell_type": "markdown",
   "metadata": {},
   "source": [
    "**Find Intersection**"
   ]
  },
  {
   "cell_type": "code",
   "execution_count": 70,
   "metadata": {},
   "outputs": [],
   "source": [
    "# wrong tes cases\n",
    "# [\"1, 2, 3, 4, 5\", \"6, 7, 8, 9, 10\"] --> false\n",
    "\n",
    "\n",
    "def FindIntersection(strArr):\n",
    "\n",
    "    str1 = strArr[0]\n",
    "    str2 = strArr[1]\n",
    "    rtrn_list = []\n",
    "\n",
    "    def str_to_list(str):\n",
    "        a_list = []\n",
    "        for i in range(str.count(\",\")+1):\n",
    "            a_list.append(str.split(\", \")[i])\n",
    "\n",
    "        return a_list\n",
    "\n",
    "    list1 = str_to_list(str1)\n",
    "    list2 = str_to_list(str2)\n",
    "\n",
    "    list3 = list1 + list2\n",
    "\n",
    "    for i in set(list3):\n",
    "        if (i in list1) and (i in list2):\n",
    "            rtrn_list.append(int(i))\n",
    "\n",
    "    rtrn_list = sorted(rtrn_list)\n",
    "    rtrn_list = [str(i) for i in rtrn_list]\n",
    "\n",
    "    # code goes here\n",
    "    return \",\".join(rtrn_list)"
   ]
  },
  {
   "cell_type": "markdown",
   "metadata": {},
   "source": [
    "**Counting Minutes**"
   ]
  },
  {
   "cell_type": "code",
   "execution_count": 71,
   "metadata": {},
   "outputs": [],
   "source": [
    "def convert24(str1):\n",
    "    if str1[-2:] == \"am\" and str1[:2] == \"12\":\n",
    "        return \"00\" + str1[2:-2]\n",
    "    elif str1[-2:] == \"am\":\n",
    "        return str1[:-2]\n",
    "    elif str1[-2:] == \"pm\" and str1[:2] == \"12\":\n",
    "        return str1[:-2]\n",
    "    else:\n",
    "        return str(int(str1[:str1.find(\":\")]) + 12) + str1[str1.find(\":\"):4]\n",
    "\n",
    "\n",
    "def CountingMinutesI(str):\n",
    "\n",
    "    begin_time = str.split(\"-\")[0]\n",
    "    end_time = str.split(\"-\")[1]\n",
    "\n",
    "    begin_hour = int(convert24(begin_time).split(\":\")[0])\n",
    "    end_hour = int(convert24(end_time).split(\":\")[0])\n",
    "\n",
    "    begin_minute = int(convert24(begin_time).split(\":\")[1])\n",
    "    end_minute = int(convert24(end_time).split(\":\")[1])\n",
    "\n",
    "    mins_in_day = 24*60\n",
    "\n",
    "    if (end_hour-begin_hour)*60 + end_minute - begin_minute < 0:\n",
    "        return mins_in_day + (end_hour-begin_hour)*60 + end_minute - begin_minute\n",
    "    else:\n",
    "        return (end_hour-begin_hour)*60 + end_minute - begin_minute"
   ]
  },
  {
   "cell_type": "markdown",
   "metadata": {},
   "source": [
    "**Nonrepeating Character**"
   ]
  },
  {
   "cell_type": "code",
   "execution_count": 72,
   "metadata": {},
   "outputs": [],
   "source": [
    "def NonrepeatingCharacter(str):\n",
    "    str = str.strip(\" \")\n",
    "    char_dic = {}\n",
    "    return_val = \"\"\n",
    "\n",
    "    for s in str:\n",
    "        char_count = str.count(s)\n",
    "        char_dic[s] = char_count\n",
    "\n",
    "    for key, value in char_dic.items():\n",
    "        if value == 1:\n",
    "            return key\n",
    "\n",
    "    # code goes here\n",
    "    return return_val"
   ]
  },
  {
   "cell_type": "markdown",
   "metadata": {},
   "source": [
    "# Medium"
   ]
  },
  {
   "cell_type": "markdown",
   "metadata": {},
   "source": [
    "Primes"
   ]
  },
  {
   "cell_type": "code",
   "execution_count": 73,
   "metadata": {},
   "outputs": [],
   "source": [
    "def Primes(num):\n",
    "    if num == 1:\n",
    "        return \"false\"\n",
    "    if num == 2:\n",
    "        return \"true\"\n",
    "    else:\n",
    "        for i in range(2, num):\n",
    "            if num % i == 0:\n",
    "                return \"false\"\n",
    "\n",
    "        else:\n",
    "            return \"true\""
   ]
  },
  {
   "cell_type": "markdown",
   "metadata": {},
   "source": [
    "Plus Minus"
   ]
  },
  {
   "cell_type": "code",
   "execution_count": 74,
   "metadata": {},
   "outputs": [],
   "source": [
    "from itertools import permutations\n",
    "\n",
    "\n",
    "def PlusMinus(num):\n",
    "    num = str(num)\n",
    "\n",
    "    s = \"+\"*(len(str(num))-1)\n",
    "\n",
    "    if len(num) < 4:\n",
    "        sign = [\"-\", \"+\"]\n",
    "    else:\n",
    "        sign = [\"+\", \"-\"]\n",
    "\n",
    "    for i in range(1, len(s) + 1):\n",
    "\n",
    "        s = sign[0]*i+sign[1]*(len(s) - i)\n",
    "        a = [\"\".join(x) for x in list(set(permutations(s)))]\n",
    "\n",
    "        for x in a:\n",
    "            new = \"\"\n",
    "            for j in range(len(x)):\n",
    "                new += num[j] + x[j]\n",
    "            new += num[j+1]\n",
    "\n",
    "            if eval(new) == 0:\n",
    "                return x\n",
    "\n",
    "    # code goes here\n",
    "\n",
    "    return \"not possible\""
   ]
  },
  {
   "cell_type": "markdown",
   "metadata": {},
   "source": [
    "Bitmap Holes"
   ]
  },
  {
   "cell_type": "code",
   "execution_count": 75,
   "metadata": {},
   "outputs": [],
   "source": [
    "def holes_around(arr, i, j):\n",
    "    list_0s = [(i, j)]\n",
    "    while len(list_0s) > 0:\n",
    "        x, y = list_0s.pop()\n",
    "        arr[x][y] = \"1\"\n",
    "\n",
    "        if y + 1 < len(arr[x]) and arr[x][y+1] == \"0\":\n",
    "            list_0s.append((x, y+1))\n",
    "        if x+1 < len(arr) and arr[x+1][y] == \"0\":\n",
    "            list_0s.append((x+1, y))\n",
    "        if y > 0 and arr[x][y-1] == \"0\":\n",
    "            list_0s.append((x, y-1))\n",
    "        if x > 0 and arr[x-1][y] == \"0\":\n",
    "            list_0s.append((x-1, y))\n",
    "\n",
    "\n",
    "def BitmapHoles(strArr):\n",
    "    count = 0\n",
    "    arr = [list(x) for x in strArr]\n",
    "    for i in range(len(arr)):\n",
    "        for j in range(len(arr[i])):\n",
    "            if arr[i][j] == \"0\":\n",
    "                count += 1\n",
    "                holes_around(arr, i, j)\n",
    "\n",
    "    # code goes here\n",
    "    return count"
   ]
  },
  {
   "cell_type": "markdown",
   "metadata": {},
   "source": [
    "Eight Queens"
   ]
  },
  {
   "cell_type": "code",
   "execution_count": 76,
   "metadata": {},
   "outputs": [],
   "source": [
    "def EightQueens(strArr):\n",
    "    for coords1 in strArr:\n",
    "        # print(type(eval(coords1)))\n",
    "        x1, y1 = eval(coords1)\n",
    "        for coords2 in strArr:\n",
    "            x2, y2 = eval(coords2)\n",
    "            if x1 == x2 and y1 == y2:\n",
    "                continue\n",
    "            if (x1 == x2) or (y1 == y2) or ((x1-x2)**2) == ((y1-y2)**2):\n",
    "                return coords1\n",
    "\n",
    "    return \"true\""
   ]
  },
  {
   "cell_type": "markdown",
   "metadata": {},
   "source": [
    "Stock Picker"
   ]
  },
  {
   "cell_type": "code",
   "execution_count": 77,
   "metadata": {},
   "outputs": [],
   "source": [
    "def StockPicker(arr):\n",
    "\n",
    "    max_profit = 0\n",
    "    max_profit_list = []\n",
    "\n",
    "    for i in range(len(arr)):\n",
    "        for j in range(i+1, len(arr)):\n",
    "            #print(arr[i], arr[j])\n",
    "            if arr[i] < arr[j]:\n",
    "                max_profit = arr[j] - arr[i]\n",
    "                max_profit_list.append(max_profit)\n",
    "                # print(max_profit)\n",
    "\n",
    "    if len(max_profit_list) == 0:\n",
    "        return -1\n",
    "    else:\n",
    "        return max(max_profit_list)"
   ]
  },
  {
   "cell_type": "markdown",
   "metadata": {},
   "source": [
    "Missing Digit"
   ]
  },
  {
   "cell_type": "code",
   "execution_count": 103,
   "metadata": {},
   "outputs": [
    {
     "name": "stdout",
     "output_type": "stream",
     "text": [
      "\"33 + 1x == 45\"\n",
      "0\n"
     ]
    }
   ],
   "source": [
    "def MissingDigit(equation):\n",
    "    equation = equation.replace('=', '==')\n",
    "    for x in range(1000000):\n",
    "        try:\n",
    "            if eval(equation.replace('x', str(x))):\n",
    "                return x\n",
    "        except:\n",
    "            pass\n",
    "    return None\n",
    "\n",
    "\n",
    "# keep this function call here\n",
    "print(MissingDigit(input()))"
   ]
  },
  {
   "cell_type": "code",
   "execution_count": 102,
   "metadata": {},
   "outputs": [
    {
     "data": {
      "text/plain": [
       "True"
      ]
     },
     "execution_count": 102,
     "metadata": {},
     "output_type": "execute_result"
    }
   ],
   "source": [
    "eval(\"33 + 12 == 45\")"
   ]
  },
  {
   "cell_type": "code",
   "execution_count": 79,
   "metadata": {},
   "outputs": [
    {
     "data": {
      "text/plain": [
       "False"
      ]
     },
     "execution_count": 79,
     "metadata": {},
     "output_type": "execute_result"
    }
   ],
   "source": [
    "eval(\"33 + 12 == 46\")"
   ]
  },
  {
   "cell_type": "code",
   "execution_count": 100,
   "metadata": {},
   "outputs": [],
   "source": [
    "def MissingDigit(str):\n",
    "    equation = str[:str.find(\"=\")]  # before equal sign\n",
    "    print(equation)\n",
    "    result = str[str.find(\"=\")+2:]  # after equal sign\n",
    "    print(result)\n",
    "    missing = None\n",
    "    new_eq = \"\"\n",
    "    digits = \"0123456789\"\n",
    "    \n",
    "    if equation.find(\"x\") == -1:\n",
    "        if result == \"x\":\n",
    "            missing = eval(equation)\n",
    "        else:\n",
    "            # solve equation for each digit\n",
    "            for i in digits:\n",
    "                replaced_result = result.replace(\"x\", i)\n",
    "                if int(replaced_result) == eval(equation):\n",
    "                    missing = i \n",
    "    else:\n",
    "        # solve equation for each digit\n",
    "        for i in digits:\n",
    "            replaced_result = equation.replace(\"x\", i)\n",
    "            if int(result) == eval(replaced_result):\n",
    "                missing = i\n",
    "\n",
    "    # code goes here\n",
    "    return int(missing)"
   ]
  },
  {
   "cell_type": "markdown",
   "metadata": {},
   "source": [
    "Most Free Time"
   ]
  },
  {
   "cell_type": "code",
   "execution_count": 80,
   "metadata": {},
   "outputs": [],
   "source": [
    "# wrong test cases\n",
    "# [\"07:00AM-08:00AM\",\"09:00AM-10:00AM\",\"10:00PM-11:00PM\"] --> output is 12:00\n",
    "# [\"01:52AM-01:55AM\",\"01:00AM-01:10AM\",\"01:20AM-01:50AM\"] --> output is 00:10\n",
    "from datetime import datetime\n",
    "\n",
    "def MostFreeTime(strArr):\n",
    "    time_list = []\n",
    "    FMT = '%H:%M'\n",
    "    a_list = []\n",
    "    for i in range(len(strArr)):\n",
    "        in_time = datetime.strptime(strArr[i].split(\"-\")[0], \"%I:%M%p\")\n",
    "        begin = datetime.strftime(in_time, \"%H:%M\")\n",
    "\n",
    "        in_time2 = datetime.strptime(strArr[i].split(\"-\")[1], \"%I:%M%p\")\n",
    "        end = datetime.strftime(in_time2, \"%H:%M\")\n",
    "\n",
    "        a_list.append((begin, end))\n",
    "\n",
    "    a_list = sorted(a_list)\n",
    "\n",
    "    for i in range(len(a_list)-1):\n",
    "        free_time = (datetime.strptime(a_list[i+1][0], FMT) -\n",
    "                     datetime.strptime(a_list[i][1], FMT))\n",
    "        minutes = int(free_time.total_seconds()/60)\n",
    "        time_list.append(minutes)\n",
    "\n",
    "    max_time = max(time_list)\n",
    "\n",
    "    if (max_time//60 < 10) and (max_time % 60 < 10):\n",
    "        return \"0{hour}:0{minute}\".format(hour=str(max_time//60), minute=str(max_time % 60))\n",
    "    elif (max_time//60 < 10) and (max_time % 60 > 10):\n",
    "        return \"0{hour}:{minute}\".format(hour=str(max_time//60), minute=str(max_time % 60))\n",
    "    elif (max_time//60 > 10) and (max_time % 60 < 10):\n",
    "        return \"{hour}:{minute}\".format(hour=str(max_time//60), minute=str(max_time % 60))\n",
    "    else:\n",
    "        return \"{hour}:{minute}\".format(hour=str(max_time//60), minute=str(max_time % 60))"
   ]
  },
  {
   "cell_type": "markdown",
   "metadata": {},
   "source": [
    "Coin Determines"
   ]
  },
  {
   "cell_type": "code",
   "execution_count": 81,
   "metadata": {},
   "outputs": [],
   "source": [
    "# wrong test cases\n",
    "# 25 --> 3\n",
    "# 37 --> 5\n",
    "from itertools import combinations, permutations\n",
    "\n",
    "\n",
    "def CoinDeterminer(num):\n",
    "\n",
    "    coin_list = [11, 9, 7, 5, 1]\n",
    "    two_coins_list = []\n",
    "    for i in range(len(coin_list)):\n",
    "        for j in range(i, len(coin_list)):\n",
    "            two_coins_list.append((coin_list[i], coin_list[j]))\n",
    "    # print(two_coins_list)\n",
    "\n",
    "    c1, c2, c3, c4, c5 = coin_list\n",
    "    num_coins1 = 0\n",
    "    num_coins2 = 0\n",
    "\n",
    "    for item in two_coins_list:\n",
    "        if item[0] + item[1] == num:\n",
    "            num_coins1 = 2\n",
    "            return num_coins1\n",
    "\n",
    "    for i in coin_list:\n",
    "        e = num//i\n",
    "        num -= i*e\n",
    "        num_coins2 += e\n",
    "\n",
    "    # code goes here\n",
    "    return num_coins2"
   ]
  },
  {
   "cell_type": "code",
   "execution_count": 82,
   "metadata": {},
   "outputs": [],
   "source": [
    "import itertools\n",
    "\n",
    "\n",
    "def eval_min_coins(num, coins):\n",
    "    remainder = num\n",
    "    num = 0\n",
    "\n",
    "    for coin in coins:\n",
    "\n",
    "        if remainder > 0:\n",
    "            quotient = remainder // coin\n",
    "            remainder = remainder % coin\n",
    "\n",
    "            if quotient != 0:\n",
    "                num += quotient\n",
    "\n",
    "    return num\n",
    "\n",
    "\n",
    "def CoinDeterminer(num):\n",
    "    coins = [11, 9, 7, 5, 1]\n",
    "    min_val = 0\n",
    "    for subset_coins in itertools.permutations(coins):\n",
    "\n",
    "        min_coins = eval_min_coins(num, subset_coins)\n",
    "        if min_coins < min_val or min_val == 0:\n",
    "            min_val = min_coins\n",
    "\n",
    "     # code goes here\n",
    "    return min_val"
   ]
  },
  {
   "cell_type": "markdown",
   "metadata": {},
   "source": [
    "String Calculate"
   ]
  },
  {
   "cell_type": "code",
   "execution_count": 83,
   "metadata": {},
   "outputs": [],
   "source": [
    "def StringCalculate(s):\n",
    "\n",
    "    for i in range(len(s)-1):\n",
    "        if s[i] == ')' and s[i+1] == '(' or s[i] in '1234567890' and s[i+1] == '(':\n",
    "            s = list(s)\n",
    "            s.insert(i+1, '*')\n",
    "            s = ''.join(s)\n",
    "    return int(eval(s))"
   ]
  },
  {
   "cell_type": "markdown",
   "metadata": {},
   "source": [
    "Tree Constructor"
   ]
  },
  {
   "cell_type": "code",
   "execution_count": 84,
   "metadata": {},
   "outputs": [],
   "source": [
    "def TreeConstructor(strArr):\n",
    "    tuple_list = []\n",
    "\n",
    "    for item in strArr:\n",
    "        tuple_list.append(eval(item))\n",
    "\n",
    "    parent_list = []\n",
    "    child_list = []\n",
    "\n",
    "    if len(tuple_list) < 1:\n",
    "        return 'false'\n",
    "\n",
    "    elif len(tuple_list) < 2:\n",
    "        return 'true'\n",
    "\n",
    "    else:\n",
    "        for nodes in tuple_list:\n",
    "            child_list.append(nodes[0])\n",
    "            parent_list.append(nodes[1])\n",
    "\n",
    "    # print(child_list)\n",
    "    # print(parent_list)\n",
    "\n",
    "        if any(parent_list.count(parent_list[i]) > 2 for i in range(len(parent_list))):\n",
    "            parent = False\n",
    "        else:\n",
    "            parent = True\n",
    "\n",
    "        if any(child_list.count(child_list[i]) > 2 for i in range(len(child_list))):\n",
    "            child = False\n",
    "        else:\n",
    "            child = True\n",
    "\n",
    "        if (not parent) or (not child):\n",
    "            return \"false\"\n",
    "\n",
    "    return \"true\"\n",
    "\n",
    "    # code goes here\n",
    "    # return tuple_list"
   ]
  },
  {
   "cell_type": "markdown",
   "metadata": {},
   "source": [
    "Linear Congruence"
   ]
  },
  {
   "cell_type": "code",
   "execution_count": 85,
   "metadata": {},
   "outputs": [],
   "source": [
    "def LinearCongruence(str):\n",
    "\n",
    "    mod = int(str[str.find(\"(\")+5:str.find(\")\")])\n",
    "    a = int(str[:str.find(\"x\")])\n",
    "    b = int(str[str.find(\"=\")+2:str.find(\"(\")-1])\n",
    "    count = 0\n",
    "\n",
    "    for i in range(mod):\n",
    "        if a*i % mod == b % mod:\n",
    "            count += 1\n",
    "\n",
    "    # code goes here\n",
    "    return count"
   ]
  },
  {
   "cell_type": "markdown",
   "metadata": {},
   "source": [
    "K Unique Characters"
   ]
  },
  {
   "cell_type": "code",
   "execution_count": 86,
   "metadata": {},
   "outputs": [],
   "source": [
    "'''\n",
    "* take str\n",
    "* find the longest substring\n",
    " * substring starts from second char\n",
    "* contains k unique chars\n",
    "* k is first char in the str\n",
    "'''\n",
    "def MakeListofSubStr(substr):\n",
    "    substr_list = []\n",
    "\n",
    "    for i in range(len(substr)):\n",
    "        for j in range(i, len(substr)+1):\n",
    "            substr_list.append(substr[i:j])\n",
    "\n",
    "    return substr_list\n",
    "\n",
    "# print(MakeListofSubStr(\"aabacbebebe\"))\n",
    "def KUniqueCharacters(str):\n",
    "\n",
    "    K = int(str[0])\n",
    "    a_substr = str[1:]\n",
    "    list_substr = MakeListofSubStr(a_substr)\n",
    "    max_length = 1\n",
    "\n",
    "    unique_char_list = []\n",
    "\n",
    "    for i in range(len(list_substr)):\n",
    "        if len(set(list_substr[i])) == K:\n",
    "            unique_char_list.append(list_substr[i])\n",
    "\n",
    "    return max(unique_char_list, key=len)"
   ]
  },
  {
   "cell_type": "code",
   "execution_count": 87,
   "metadata": {},
   "outputs": [],
   "source": [
    "# someone elses k unique chars\n",
    "def KUniqueCharacters(string):\n",
    "\n",
    "    unique_counter = int(string[0])\n",
    "\n",
    "    all_k_substrings = []\n",
    "\n",
    "    for i in range(1, len(string)):\n",
    "\n",
    "        counter = 0\n",
    "\n",
    "        substring = \"\"\n",
    "\n",
    "        for j in range(i, len(string)):\n",
    "\n",
    "            if string[j] not in substring:\n",
    "                counter += 1\n",
    "\n",
    "            if counter > unique_counter:\n",
    "                break\n",
    "\n",
    "            substring += string[j]\n",
    "\n",
    "        all_k_substrings.append(substring)\n",
    "\n",
    "    longest_substr = \"\"\n",
    "\n",
    "    for s in all_k_substrings:\n",
    "        if len(s) > len(longest_substr):\n",
    "            longest_substr = s\n",
    "\n",
    "    return longest_substr"
   ]
  },
  {
   "cell_type": "code",
   "execution_count": 88,
   "metadata": {},
   "outputs": [
    {
     "data": {
      "text/plain": [
       "'aabba'"
      ]
     },
     "execution_count": 88,
     "metadata": {},
     "output_type": "execute_result"
    }
   ],
   "source": [
    "KUniqueCharacters(\"2aabbacbaa\")"
   ]
  },
  {
   "cell_type": "markdown",
   "metadata": {},
   "source": [
    "Nearest Smallest Value"
   ]
  },
  {
   "cell_type": "code",
   "execution_count": 89,
   "metadata": {},
   "outputs": [],
   "source": [
    "'''\n",
    "* arr of integers\n",
    "* create new result array\n",
    "* for each element\n",
    "   * take all previous\n",
    "   * find nearest\n",
    "   * smaller than current\n",
    "   * if no smaller then -1\n",
    "   * store the value in the result array\n",
    "* convert result array to stringified format\n",
    "* return final result\n",
    "\n",
    "\n",
    "'''\n",
    "# given an array, return previous values from position\n",
    "# position excluded\n",
    "# takeAllPrevious([1,2,3,4,5,6], 3) => [1,2,3]\n",
    "# takeAllPrevious([1,2,3,4,5,6], 5) => [1,2,3,4,5]\n",
    "# takeAllPrevious([1,2,3,4,5,6], 1) => [1]\n",
    "# takeAllPrevious([1,2,3,4,5,6], 0) => [-1]\n",
    "\n",
    "\n",
    "def takeAllPrevious(arr, position):\n",
    "\n",
    "    if position == 0:\n",
    "        return []\n",
    "\n",
    "    if position >= len(arr):\n",
    "        return arr\n",
    "\n",
    "    result = []\n",
    "    for i in range(position):\n",
    "        result.append(arr[i])\n",
    "\n",
    "    return result\n",
    "\n",
    "# given array and value\n",
    "# return the rightmost value in array that is\n",
    "# smaller than given value\n",
    "# if not found, return -1\n",
    "# findRightMostSmaller([1,2,3,4,5,6], 7) => 6\n",
    "# findRightMostSmaller([1,2,3,4,5,6], -5) => -1\n",
    "# findRightMostSmaller([1,2,3,4,5,6], 4) => 3\n",
    "\n",
    "\n",
    "def findRightMostSmaller(arr, value):\n",
    "\n",
    "    for i in range(len(arr)-1, -1, -1):\n",
    "        if arr[i] <= value:\n",
    "            return arr[i]\n",
    "\n",
    "    return -1\n",
    "\n",
    "\n",
    "def arrayToString(arr):\n",
    "    stringifiedValues = [str(i) for i in arr]\n",
    "    return ' '.join(stringifiedValues)\n",
    "\n",
    "\n",
    "def NearestSmallerValues(arr):\n",
    "\n",
    "    result = []\n",
    "\n",
    "    for i in range(len(arr)):\n",
    "        currentValue = arr[i]\n",
    "        previousArray = takeAllPrevious(arr, i)\n",
    "        value = findRightMostSmaller(previousArray, currentValue)\n",
    "        result.append(value)\n",
    "\n",
    "    stringResult = arrayToString(result)\n",
    "\n",
    "    return stringResult"
   ]
  },
  {
   "cell_type": "markdown",
   "metadata": {},
   "source": [
    "City Traffic"
   ]
  },
  {
   "cell_type": "code",
   "execution_count": 90,
   "metadata": {},
   "outputs": [],
   "source": [
    "'''\n",
    "* strArr as undirected graph\n",
    "* first integer: population in that city\n",
    "* second list: population of the neighboring cities\n",
    "* determine the max # of traffic \n",
    "  * if everyone decided to go to that city via roads\n",
    "* return max traffic for each city\n",
    " * in a sorted order with comma seperated\n",
    "'''\n",
    "\n",
    "\n",
    "def get_population(strArr):\n",
    "    return int(strArr)\n",
    "\n",
    "\n",
    "def get_neighbors(strArr):\n",
    "    return [int(str_element) for str_element in strArr]\n",
    "\n",
    "\n",
    "def traverse(node, graph, visited, max_so_far):\n",
    "    visited.add(node)\n",
    "    path_length = max_so_far + node\n",
    "\n",
    "    for neighbor in graph[node]:\n",
    "        if neighbor in visited:\n",
    "            continue\n",
    "        path_length += traverse(neighbor, graph, visited, path_length)\n",
    "\n",
    "    return path_length\n",
    "\n",
    "\n",
    "def CityTraffic(strArr):\n",
    "    graph = dict()\n",
    "\n",
    "    for values in strArr:\n",
    "        node_adjacency = values.split(':')\n",
    "        graph[get_population(node_adjacency[0])] = \\\n",
    "            get_neighbors(node_adjacency[1][1:-1].split(','))\n",
    "\n",
    "    # print(graph)\n",
    "    answer = dict()\n",
    "\n",
    "    for root in graph.keys():\n",
    "        neighbors = graph[root]\n",
    "        # print(neighbors)\n",
    "\n",
    "        max_val = -1\n",
    "\n",
    "        for neighbor in neighbors:\n",
    "            visited = {root}\n",
    "            to_visit = list([neighbor])\n",
    "            path_cost = 0\n",
    "\n",
    "            while to_visit:\n",
    "                node = to_visit.pop(0)\n",
    "                visited.add(node)\n",
    "                path_cost += node\n",
    "\n",
    "                for sub_neighbor in graph[node]:\n",
    "                    if sub_neighbor in visited:\n",
    "                        continue\n",
    "                    to_visit.append(sub_neighbor)\n",
    "\n",
    "            if path_cost > max_val:\n",
    "                max_val = path_cost\n",
    "\n",
    "        answer[root] = max_val\n",
    "\n",
    "    keys = list(graph)\n",
    "    keys.sort()\n",
    "\n",
    "    string_answer = ''\n",
    "\n",
    "    for i, key in enumerate(keys):\n",
    "        if i != 0:\n",
    "            string_answer += ','\n",
    "        string_answer += '%d:%d' % (key, answer[key])\n",
    "\n",
    "    return string_answer"
   ]
  },
  {
   "cell_type": "code",
   "execution_count": 91,
   "metadata": {},
   "outputs": [],
   "source": [
    "'''\n",
    "NearestSmallestValue\n",
    "* arr of integers\n",
    "* create new result array\n",
    "* for each element\n",
    "   * take all previous\n",
    "   * find nearest\n",
    "   * smaller than current\n",
    "   * if no smaller then -1\n",
    "   * store the value in the result array\n",
    "* convert result array to stringified format\n",
    "* return final result\n",
    "\n",
    "\n",
    "'''\n",
    "# given an array, return previous values from position\n",
    "# position excluded\n",
    "# takeAllPrevious([1,2,3,4,5,6], 3) => [1,2,3]\n",
    "# takeAllPrevious([1,2,3,4,5,6], 5) => [1,2,3,4,5]\n",
    "# takeAllPrevious([1,2,3,4,5,6], 1) => [1]\n",
    "# takeAllPrevious([1,2,3,4,5,6], 0) => [-1]\n",
    "\n",
    "\n",
    "def takeAllPrevious(arr, position):\n",
    "\n",
    "    if position == 0:\n",
    "        return []\n",
    "\n",
    "    if position >= len(arr):\n",
    "        return arr\n",
    "\n",
    "    result = []\n",
    "    for i in range(position):\n",
    "        result.append(arr[i])\n",
    "\n",
    "    return result\n",
    "\n",
    "# given array and value\n",
    "# return the rightmost value in array that is\n",
    "# smaller than given value\n",
    "# if not found, return -1\n",
    "# findRightMostSmaller([1,2,3,4,5,6], 7) => 6\n",
    "# findRightMostSmaller([1,2,3,4,5,6], -5) => -1\n",
    "# findRightMostSmaller([1,2,3,4,5,6], 4) => 3\n",
    "\n",
    "\n",
    "def findRightMostSmaller(arr, value):\n",
    "\n",
    "    for i in range(len(arr)-1, -1, -1):\n",
    "        if arr[i] <= value:\n",
    "            return arr[i]\n",
    "\n",
    "    return -1\n",
    "\n",
    "\n",
    "def arrayToString(arr):\n",
    "    stringifiedValues = [str(i) for i in arr]\n",
    "    return ' '.join(stringifiedValues)\n",
    "\n",
    "\n",
    "def NearestSmallerValues(arr):\n",
    "\n",
    "    result = []\n",
    "\n",
    "    for i in range(len(arr)):\n",
    "        currentValue = arr[i]\n",
    "        previousArray = takeAllPrevious(arr, i)\n",
    "        value = findRightMostSmaller(previousArray, currentValue)\n",
    "        result.append(value)\n",
    "\n",
    "    stringResult = arrayToString(result)\n",
    "\n",
    "    return stringResult"
   ]
  },
  {
   "cell_type": "markdown",
   "metadata": {},
   "source": [
    "Farthest Nodes"
   ]
  },
  {
   "cell_type": "code",
   "execution_count": 92,
   "metadata": {},
   "outputs": [],
   "source": [
    "def farnode(graph, node):\n",
    "    queue = [(node, 0)]\n",
    "    processed = set([])\n",
    "    while len(queue):\n",
    "        cur, n = queue.pop(0)\n",
    "        processed.add(cur)\n",
    "        for x in graph[cur]:\n",
    "            if x not in processed:\n",
    "                queue.append((x, n+1))\n",
    "\n",
    "    return cur,  n\n",
    "\n",
    "\n",
    "def FarthestNodes(strArr):\n",
    "    graph = {}\n",
    "\n",
    "    for edge in strArr:\n",
    "        x, y = edge.split(\"-\")\n",
    "        graph.setdefault(x, []).append(y)\n",
    "        graph.setdefault(y, []).append(x)\n",
    "\n",
    "    a, n = farnode(graph, list(graph.keys())[0])\n",
    "    b, n = farnode(graph, a)\n",
    "\n",
    "    return n\n",
    "\n",
    "    # code goes here\n",
    "    return strArr"
   ]
  },
  {
   "cell_type": "markdown",
   "metadata": {},
   "source": [
    "Permutation Step"
   ]
  },
  {
   "cell_type": "code",
   "execution_count": 93,
   "metadata": {},
   "outputs": [],
   "source": [
    "'''\n",
    "* take num parameter - integer\n",
    "* return next number greater than num\n",
    "* using same digits\n",
    "* if no bigger than number return -1\n",
    "'''\n",
    "from itertools import permutations\n",
    "\n",
    "def NumtoList(num):\n",
    "    # function to create a list of digits from the given num\n",
    "    # it returns integer list of digits\n",
    "    str_num = str(num)\n",
    "    num_list = []\n",
    "    for s in str_num:\n",
    "        num_list.append(int(s))\n",
    "    return num_list\n",
    "\n",
    "\n",
    "def FindAllNumbers(num_list):\n",
    "    # function to create all possible permutations of nums from the given digit list\n",
    "    # it returns the sorted number list of all possible permutations\n",
    "    all_numbers = list(permutations(num_list, len(num_list)))\n",
    "    num_str = \"\"\n",
    "    num_str_list = []\n",
    "\n",
    "    for item in all_numbers:\n",
    "        for i in item:\n",
    "            num_str += str(i)\n",
    "\n",
    "        num_str_list.append(num_str)\n",
    "        num_str = \"\"\n",
    "\n",
    "    num_int_list = [int(i) for i in num_str_list]\n",
    "\n",
    "    return sorted(num_int_list)\n",
    "\n",
    "\n",
    "def PermutationStep(num):\n",
    "    num_list = NumtoList(num)\n",
    "    \n",
    "    if num_list.count(num) == len(num_list):\n",
    "        return -1\n",
    "    \n",
    "    all_int_numbers = FindAllNumbers(num_list)\n",
    "    for item in all_int_numbers:\n",
    "        if item > num:\n",
    "            return item\n",
    "\n",
    "    # code goes here\n",
    "    return -1"
   ]
  },
  {
   "cell_type": "code",
   "execution_count": 94,
   "metadata": {},
   "outputs": [
    {
     "data": {
      "text/plain": [
       "21"
      ]
     },
     "execution_count": 94,
     "metadata": {},
     "output_type": "execute_result"
    }
   ],
   "source": [
    "PermutationStep(12)"
   ]
  },
  {
   "cell_type": "markdown",
   "metadata": {},
   "source": [
    "Matrix Determinant"
   ]
  },
  {
   "cell_type": "code",
   "execution_count": 95,
   "metadata": {},
   "outputs": [],
   "source": [
    "'''\n",
    "* str array: - max size 6*6\n",
    " * array of integers represented as string\n",
    " * <> represented as break point for each row\n",
    "* take strArr\n",
    "* create matrix\n",
    "* calculate determinant return it\n",
    "* if not a square matrix return -1\n",
    "'''\n",
    "import numpy as np\n",
    "np.set_printoptions(precision=2)\n",
    "\n",
    "\n",
    "def StrtoIntList(strArr):\n",
    "    int_list = [int(i) for i in strArr if i != \"<>\"]\n",
    "    return int_list\n",
    "\n",
    "# print(StrtoIntList([\"-11\",\"2\",\"4\",\"<>\",\"-2\",\"-1\",\"-1\",\"<>\",\"-4\",\"-1\",\"100000\"]))\n",
    "\n",
    "\n",
    "def FindNumRows(strArr):\n",
    "    str = \"\".join(strArr)\n",
    "    rows = str.count(\"<>\")+1\n",
    "    return rows\n",
    "\n",
    "\n",
    "def FindNumCols(strArr):\n",
    "    str = \"\".join(strArr)\n",
    "    num_seperator = str.count(\"<>\")\n",
    "    rows = str.count(\"<>\")+1\n",
    "    # print(rows)\n",
    "    length = len(strArr)\n",
    "    cols = (length-num_seperator)/rows\n",
    "    # print(cols)\n",
    "\n",
    "    if length-num_seperator == rows*cols:\n",
    "        return int(cols)\n",
    "    else:\n",
    "        return -1\n",
    "\n",
    "# print(FindNumCols([\"1\",\"2\",\"4\",\"<>\",\"2\",\"1\",\"1\",\"<>\",\"4\",\"1\",\"1\"]))\n",
    "\n",
    "\n",
    "def MatrixDeterminant(strArr):\n",
    "    rows = FindNumRows(strArr)\n",
    "    cols = FindNumCols(strArr)\n",
    "\n",
    "    array = np.asarray(StrtoIntList(strArr))\n",
    "    # print(array)\n",
    "    matrix = np.reshape(array, (rows, cols))\n",
    "    determinant = np.linalg.det(matrix)\n",
    "\n",
    "    if rows != cols:\n",
    "        return -1\n",
    "    else:\n",
    "        return int(round(determinant, 0))"
   ]
  },
  {
   "cell_type": "code",
   "execution_count": null,
   "metadata": {},
   "outputs": [],
   "source": []
  }
 ],
 "metadata": {
  "kernelspec": {
   "display_name": "Python 3",
   "language": "python",
   "name": "python3"
  },
  "language_info": {
   "codemirror_mode": {
    "name": "ipython",
    "version": 3
   },
   "file_extension": ".py",
   "mimetype": "text/x-python",
   "name": "python",
   "nbconvert_exporter": "python",
   "pygments_lexer": "ipython3",
   "version": "3.7.6"
  },
  "varInspector": {
   "cols": {
    "lenName": 16,
    "lenType": 16,
    "lenVar": 40
   },
   "kernels_config": {
    "python": {
     "delete_cmd_postfix": "",
     "delete_cmd_prefix": "del ",
     "library": "var_list.py",
     "varRefreshCmd": "print(var_dic_list())"
    },
    "r": {
     "delete_cmd_postfix": ") ",
     "delete_cmd_prefix": "rm(",
     "library": "var_list.r",
     "varRefreshCmd": "cat(var_dic_list()) "
    }
   },
   "types_to_exclude": [
    "module",
    "function",
    "builtin_function_or_method",
    "instance",
    "_Feature"
   ],
   "window_display": false
  }
 },
 "nbformat": 4,
 "nbformat_minor": 4
}
