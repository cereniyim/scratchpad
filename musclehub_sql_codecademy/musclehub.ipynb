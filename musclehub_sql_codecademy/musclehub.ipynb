{
 "cells": [
  {
   "cell_type": "markdown",
   "metadata": {},
   "source": [
    "# Capstone Project 1: MuscleHub AB Test"
   ]
  },
  {
   "cell_type": "markdown",
   "metadata": {},
   "source": [
    "## Step 1: Get started with SQL"
   ]
  },
  {
   "cell_type": "markdown",
   "metadata": {},
   "source": [
    "Like most businesses, Janet keeps her data in a SQL database.  Normally, you'd download the data from her database to a csv file, and then load it into a Jupyter Notebook using Pandas.\n",
    "\n",
    "For this project, you'll have to access SQL in a slightly different way.  You'll be using a special Codecademy library that lets you type SQL queries directly into this Jupyter notebook.  You'll have pass each SQL query as an argument to a function called `sql_query`.  Each query will return a Pandas DataFrame.  Here's an example:"
   ]
  },
  {
   "cell_type": "code",
   "execution_count": 15,
   "metadata": {},
   "outputs": [],
   "source": [
    "# This import only needs to happen once, at the beginning of the notebook\n",
    "from codecademySQL import sql_query"
   ]
  },
  {
   "cell_type": "code",
   "execution_count": 16,
   "metadata": {},
   "outputs": [
    {
     "ename": "SyntaxError",
     "evalue": "invalid syntax (<ipython-input-16-87669b442168>, line 4)",
     "output_type": "error",
     "traceback": [
      "\u001b[0;36m  File \u001b[0;32m\"<ipython-input-16-87669b442168>\"\u001b[0;36m, line \u001b[0;32m4\u001b[0m\n\u001b[0;31m    FROM visits)\u001b[0m\n\u001b[0m              ^\u001b[0m\n\u001b[0;31mSyntaxError\u001b[0m\u001b[0;31m:\u001b[0m invalid syntax\n"
     ]
    }
   ],
   "source": [
    "# Here's an example of a query that just displays some data\n",
    "sql_query(\n",
    "SELECT *\n",
    "FROM visits)"
   ]
  },
  {
   "cell_type": "code",
   "execution_count": 17,
   "metadata": {},
   "outputs": [],
   "source": [
    "# Here's an example where we save the data to a DataFrame\n",
    "df = sql_query('''\n",
    "SELECT *\n",
    "FROM applications\n",
    "LIMIT 5\n",
    "''')"
   ]
  },
  {
   "cell_type": "markdown",
   "metadata": {},
   "source": [
    "## Step 2: Get your dataset"
   ]
  },
  {
   "cell_type": "markdown",
   "metadata": {},
   "source": [
    "Let's get started!\n",
    "\n",
    "Janet of MuscleHub has a SQLite database, which contains several tables that will be helpful to you in this investigation:\n",
    "- `visits` contains information about potential gym customers who have visited MuscleHub\n",
    "- `fitness_tests` contains information about potential customers in \"Group A\", who were given a fitness test\n",
    "- `applications` contains information about any potential customers (both \"Group A\" and \"Group B\") who filled out an application.  Not everyone in `visits` will have filled out an application.\n",
    "- `purchases` contains information about customers who purchased a membership to MuscleHub.\n",
    "\n",
    "Use the space below to examine each table."
   ]
  },
  {
   "cell_type": "code",
   "execution_count": 18,
   "metadata": {},
   "outputs": [
    {
     "name": "stdout",
     "output_type": "stream",
     "text": [
      "      index first_name   last_name                          email  gender  \\\n",
      "0         0      Karen     Manning        Karen.Manning@gmail.com  female   \n",
      "1         1    Annette       Boone               AB9982@gmail.com  female   \n",
      "2         2   Salvador     Merritt  SalvadorMerritt12@outlook.com    male   \n",
      "3         3     Martha     Maxwell       Martha.Maxwell@gmail.com  female   \n",
      "4         4      Andre       Mayer         AndreMayer90@gmail.com    male   \n",
      "5         5     Herman     Ratliff         HRatliff1977@gmail.com    male   \n",
      "6         6     Steven      Conrad       StevenConrad27@gmail.com    male   \n",
      "7         7      Shane     Lindsey        Shane.Lindsey@gmail.com    male   \n",
      "8         8       Luis      Landry         LuisLandry78@gmail.com    male   \n",
      "9         9    Carolyn    Garrison     Carolyn.Garrison@gmail.com  female   \n",
      "10       10        Jay     Winters         JayWinters12@gmail.com    male   \n",
      "11       11     Willie       Moses        WillieMoses86@gmail.com    male   \n",
      "12       12      Ethel      Farmer       Ethel.Farmer@hotmail.com  female   \n",
      "13       13     Vivian      Reilly               VR5304@gmail.com  female   \n",
      "14       14     Bertha    Faulkner               BF6636@gmail.com  female   \n",
      "15       15      Lewis       Morse         LewisMorse44@gmail.com    male   \n",
      "16       16   Virginia    Garrison        VGarrison1983@yahoo.com  female   \n",
      "17       17      Tanya        Kemp               TK2236@gmail.com  female   \n",
      "18       18      Stacy     Montoya         SMontoya1975@yahoo.com  female   \n",
      "19       19      Terry      Joseph          TJoseph1972@gmail.com    male   \n",
      "20       20      Misty       Frank         MistyFrank99@gmail.com  female   \n",
      "21       21    Gabriel     Parrish     GabrielParrish14@gmail.com    male   \n",
      "22       22    Brandon     Dillard   BrandonDillard34@hotmail.com    male   \n",
      "23       23     Mattie     Emerson               ME3193@gmail.com  female   \n",
      "24       24     Carole     Blevins      CaroleBlevins30@gmail.com  female   \n",
      "25       25      Floyd       Wolfe           FWolfe1985@gmail.com    male   \n",
      "26       26     Gloria      Pruitt          GPruitt1991@gmail.com  female   \n",
      "27       27      Naomi  Valenzuela     Naomi.Valenzuela@gmail.com  female   \n",
      "28       28     Lonnie    Mccarthy               LM8222@gmail.com    male   \n",
      "29       29   Margaret      Gaines          MGaines1978@gmail.com  female   \n",
      "...     ...        ...         ...                            ...     ...   \n",
      "5970   5970    Dolores     Nielsen       DNielsen1989@outlook.com  female   \n",
      "5971   5971      Kathy       Drake         KathyDrake58@yahoo.com  female   \n",
      "5972   5972      Misty    Roberson       Misty.Roberson@gmail.com  female   \n",
      "5973   5973     Marian      Daniel      Marian.Daniel@outlook.com  female   \n",
      "5974   5974      Wanda        Snow          WandaSnow93@gmail.com  female   \n",
      "5975   5975     Nathan    Gallegos        NGallegos1993@gmail.com    male   \n",
      "5976   5976     Evelyn      Reeves      Evelyn.Reeves@hotmail.com  female   \n",
      "5977   5977      Kelly        Tate               KT1133@yahoo.com    male   \n",
      "5978   5978     Willie        Mann            WMann1985@gmail.com  female   \n",
      "5979   5979      Ellen       Blake               EB2921@gmail.com  female   \n",
      "5980   5980   Marjorie        Wong            MWong1985@gmail.com  female   \n",
      "5981   5981     Margie      Walton        Margie.Walton@gmail.com  female   \n",
      "5982   5982      Peter    Figueroa               PF2641@gmail.com    male   \n",
      "5983   5983    Clifton        Leon         Clifton.Leon@gmail.com    male   \n",
      "5984   5984     Gordon    Espinoza               GE6498@gmail.com    male   \n",
      "5985   5985       Luis       Horne             LH9941@outlook.com    male   \n",
      "5986   5986    Francis      Durham      FrancisDurham84@gmail.com    male   \n",
      "5987   5987    Suzanne    Humphrey     SuzanneHumphrey4@gmail.com  female   \n",
      "5988   5988      Glenn      Kinney         Glenn.Kinney@gmail.com    male   \n",
      "5989   5989       Jose   Stevenson      JoseStevenson56@gmail.com    male   \n",
      "5990   5990    Gregory        Wong            GWong1970@gmail.com    male   \n",
      "5991   5991       Dean       Mejia               DM7848@gmail.com    male   \n",
      "5992   5992     Sharon        Hahn               SH5322@gmail.com  female   \n",
      "5993   5993       Adam      Grimes          Adam.Grimes@gmail.com    male   \n",
      "5994   5994       Sara      Malone          SMalone1995@gmail.com  female   \n",
      "5995   5995     Rachel     Hensley      RachelHensley38@gmail.com  female   \n",
      "5996   5996       Leon      Harmon          Leon.Harmon@gmail.com    male   \n",
      "5997   5997       Andy       Pratt          AndyPratt27@gmail.com    male   \n",
      "5998   5998      Ruben     Nielsen     RubenNielsen93@hotmail.com    male   \n",
      "5999   5999    Charles      Carver               CC2490@gmail.com    male   \n",
      "\n",
      "     visit_date  \n",
      "0        5-1-17  \n",
      "1        5-1-17  \n",
      "2        5-1-17  \n",
      "3        5-1-17  \n",
      "4        5-1-17  \n",
      "5        5-1-17  \n",
      "6        5-1-17  \n",
      "7        5-1-17  \n",
      "8        5-1-17  \n",
      "9        5-1-17  \n",
      "10       5-1-17  \n",
      "11       5-1-17  \n",
      "12       5-1-17  \n",
      "13       5-1-17  \n",
      "14       5-1-17  \n",
      "15       5-1-17  \n",
      "16       5-1-17  \n",
      "17       5-1-17  \n",
      "18       5-1-17  \n",
      "19       5-1-17  \n",
      "20       5-1-17  \n",
      "21       5-1-17  \n",
      "22       5-1-17  \n",
      "23       5-1-17  \n",
      "24      5-10-17  \n",
      "25      5-10-17  \n",
      "26      5-10-17  \n",
      "27      5-10-17  \n",
      "28      5-10-17  \n",
      "29      5-10-17  \n",
      "...         ...  \n",
      "5970     9-9-17  \n",
      "5971     9-9-17  \n",
      "5972     9-9-17  \n",
      "5973     9-9-17  \n",
      "5974     9-9-17  \n",
      "5975     9-9-17  \n",
      "5976     9-9-17  \n",
      "5977     9-9-17  \n",
      "5978     9-9-17  \n",
      "5979     9-9-17  \n",
      "5980     9-9-17  \n",
      "5981     9-9-17  \n",
      "5982     9-9-17  \n",
      "5983     9-9-17  \n",
      "5984     9-9-17  \n",
      "5985     9-9-17  \n",
      "5986     9-9-17  \n",
      "5987     9-9-17  \n",
      "5988     9-9-17  \n",
      "5989     9-9-17  \n",
      "5990     9-9-17  \n",
      "5991     9-9-17  \n",
      "5992     9-9-17  \n",
      "5993     9-9-17  \n",
      "5994     9-9-17  \n",
      "5995     9-9-17  \n",
      "5996     9-9-17  \n",
      "5997     9-9-17  \n",
      "5998     9-9-17  \n",
      "5999     9-9-17  \n",
      "\n",
      "[6000 rows x 6 columns]\n"
     ]
    }
   ],
   "source": [
    "# Examine visits here\n",
    "visits = sql_query('''SELECT *\n",
    "               FROM visits''')\n",
    "print(visits)"
   ]
  },
  {
   "cell_type": "code",
   "execution_count": 19,
   "metadata": {},
   "outputs": [
    {
     "name": "stdout",
     "output_type": "stream",
     "text": [
      "      index first_name   last_name                         email  gender  \\\n",
      "0         0        Kim      Walter         KimWalter58@gmail.com  female   \n",
      "1         1        Tom     Webster              TW3857@gmail.com    male   \n",
      "2         2     Marcus       Bauer        Marcus.Bauer@gmail.com    male   \n",
      "3         3    Roberta        Best            RB6305@hotmail.com  female   \n",
      "4         4     Carrie     Francis            CF1896@hotmail.com  female   \n",
      "5         5     Teresa       Yates          TYates1988@gmail.com  female   \n",
      "6         6   Salvador    Cardenas       SCardenas1980@gmail.com    male   \n",
      "7         7    Valerie       Munoz          VMunoz1998@gmail.com  female   \n",
      "8         8     Jeremy        Howe           JHowe1982@gmail.com    male   \n",
      "9         9       Joel       Combs              JC9481@gmail.com    male   \n",
      "10       10      Nancy       Morin         Nancy.Morin@gmail.com  female   \n",
      "11       11   Lorraine     Lindsay              LL3161@gmail.com  female   \n",
      "12       12      Carla    Guerrero              CG6354@gmail.com  female   \n",
      "13       13       Andy    Roberson       ARoberson1972@yahoo.com    male   \n",
      "14       14     Arnold      Madden         AMadden1998@gmail.com    male   \n",
      "15       15     Morris        Lott              ML9504@gmail.com    male   \n",
      "16       16   Clifford     Guthrie    Clifford.Guthrie@gmail.com    male   \n",
      "17       17       Luis      Hewitt        LuisHewitt70@gmail.com    male   \n",
      "18       18     George       Boone       GeorgeBoone55@gmail.com    male   \n",
      "19       19       Anne       Velez              AV8351@gmail.com  female   \n",
      "20       20  Christina     Whitley  ChristinaWhitley36@gmail.com  female   \n",
      "21       21     Connie   Cleveland    CCleveland1986@outlook.com  female   \n",
      "22       22       Leon      Spence              LS5927@gmail.com    male   \n",
      "23       23      Bobby       Ayers         Bobby.Ayers@gmail.com    male   \n",
      "24       24     Philip     Santana    Philip.Santana@outlook.com    male   \n",
      "25       25      Lewis       Huber          LHuber1993@gmail.com    male   \n",
      "26       26      Viola        Owen         ViolaOwen38@gmail.com  female   \n",
      "27       27    Raymond      Conley              RC7718@gmail.com    male   \n",
      "28       28   Franklin        Mays       Franklin.Mays@gmail.com    male   \n",
      "29       29     Yvonne   Nicholson   YvonneNicholson61@gmail.com  female   \n",
      "...     ...        ...         ...                           ...     ...   \n",
      "2470   2470       Dale     Meadows       DaleMeadows95@gmail.com    male   \n",
      "2471   2471  Alexander       Keith                AK7894@aol.com    male   \n",
      "2472   2472        Amy    Chandler        Amy.Chandler@gmail.com  female   \n",
      "2473   2473     Gordon       Klein              GK1031@gmail.com    male   \n",
      "2474   2474       Cory    Calderon      CoryCalderon68@gmail.com    male   \n",
      "2475   2475    Frances        Kerr              FK7982@gmail.com  female   \n",
      "2476   2476     Mattie  Valenzuela     MValenzuela1994@gmail.com  female   \n",
      "2477   2477     Walter      Lowery       WalterLowery8@gmail.com    male   \n",
      "2478   2478  Constance        Pope              CP6444@gmail.com  female   \n",
      "2479   2479      Tracy       Ewing         Tracy.Ewing@gmail.com  female   \n",
      "2480   2480     Sylvia      Finley      SylviaFinley50@gmail.com  female   \n",
      "2481   2481       Neil      Hopper         Neil.Hopper@gmail.com    male   \n",
      "2482   2482     Marcia     Emerson        MEmerson1975@gmail.com  female   \n",
      "2483   2483    Kristen     Trevino              KT2379@gmail.com  female   \n",
      "2484   2484      Ethel      Valdez         EValdez1994@gmail.com  female   \n",
      "2485   2485    Dolores     Nielsen      DNielsen1989@outlook.com  female   \n",
      "2486   2486      Misty    Roberson      Misty.Roberson@gmail.com  female   \n",
      "2487   2487      Kelly        Tate              KT1133@yahoo.com    male   \n",
      "2488   2488     Willie        Mann           WMann1985@gmail.com  female   \n",
      "2489   2489      Ellen       Blake              EB2921@gmail.com  female   \n",
      "2490   2490      Peter    Figueroa              PF2641@gmail.com    male   \n",
      "2491   2491    Clifton        Leon        Clifton.Leon@gmail.com    male   \n",
      "2492   2492     Gordon    Espinoza              GE6498@gmail.com    male   \n",
      "2493   2493    Suzanne    Humphrey    SuzanneHumphrey4@gmail.com  female   \n",
      "2494   2494    Gregory        Wong           GWong1970@gmail.com    male   \n",
      "2495   2495       Dean       Mejia              DM7848@gmail.com    male   \n",
      "2496   2496       Sara      Malone         SMalone1995@gmail.com  female   \n",
      "2497   2497       Leon      Harmon         Leon.Harmon@gmail.com    male   \n",
      "2498   2498       Andy       Pratt         AndyPratt27@gmail.com    male   \n",
      "2499   2499    Charles      Carver              CC2490@gmail.com    male   \n",
      "\n",
      "     fitness_test_date  \n",
      "0           2017-07-03  \n",
      "1           2017-07-02  \n",
      "2           2017-07-01  \n",
      "3           2017-07-02  \n",
      "4           2017-07-05  \n",
      "5           2017-07-02  \n",
      "6           2017-07-07  \n",
      "7           2017-07-03  \n",
      "8           2017-07-06  \n",
      "9           2017-07-01  \n",
      "10          2017-07-05  \n",
      "11          2017-07-05  \n",
      "12          2017-07-03  \n",
      "13          2017-07-05  \n",
      "14          2017-07-01  \n",
      "15          2017-07-03  \n",
      "16          2017-07-04  \n",
      "17          2017-07-06  \n",
      "18          2017-07-03  \n",
      "19          2017-07-06  \n",
      "20          2017-07-02  \n",
      "21          2017-07-01  \n",
      "22          2017-07-03  \n",
      "23          2017-07-04  \n",
      "24          2017-07-07  \n",
      "25          2017-07-07  \n",
      "26          2017-07-05  \n",
      "27          2017-07-04  \n",
      "28          2017-07-07  \n",
      "29          2017-07-03  \n",
      "...                ...  \n",
      "2470        2017-09-13  \n",
      "2471        2017-09-14  \n",
      "2472        2017-09-12  \n",
      "2473        2017-09-10  \n",
      "2474        2017-09-14  \n",
      "2475        2017-09-12  \n",
      "2476        2017-09-11  \n",
      "2477        2017-09-12  \n",
      "2478        2017-09-15  \n",
      "2479        2017-09-10  \n",
      "2480        2017-09-14  \n",
      "2481        2017-09-12  \n",
      "2482        2017-09-11  \n",
      "2483        2017-09-12  \n",
      "2484        2017-09-09  \n",
      "2485        2017-09-14  \n",
      "2486        2017-09-14  \n",
      "2487        2017-09-12  \n",
      "2488        2017-09-11  \n",
      "2489        2017-09-10  \n",
      "2490        2017-09-15  \n",
      "2491        2017-09-12  \n",
      "2492        2017-09-12  \n",
      "2493        2017-09-09  \n",
      "2494        2017-09-09  \n",
      "2495        2017-09-13  \n",
      "2496        2017-09-13  \n",
      "2497        2017-09-15  \n",
      "2498        2017-09-15  \n",
      "2499        2017-09-12  \n",
      "\n",
      "[2500 rows x 6 columns]\n"
     ]
    }
   ],
   "source": [
    "# Examine fitness_tests here\n",
    "fitness = sql_query('''SELECT *\n",
    "               FROM fitness_tests''')\n",
    "print(fitness)"
   ]
  },
  {
   "cell_type": "code",
   "execution_count": 20,
   "metadata": {},
   "outputs": [
    {
     "name": "stdout",
     "output_type": "stream",
     "text": [
      "     index first_name  last_name                          email  gender  \\\n",
      "0        0        Roy     Abbott          RoyAbbott32@gmail.com    male   \n",
      "1        1      Agnes    Acevedo        AgnesAcevedo1@gmail.com  female   \n",
      "2        2    Roberta    Acevedo               RA8063@gmail.com  female   \n",
      "3        3     Darren     Acosta        DAcosta1996@hotmail.com    male   \n",
      "4        4     Vernon     Acosta          VAcosta1975@gmail.com    male   \n",
      "5        5        Ray     Adkins          RAdkins1997@gmail.com    male   \n",
      "6        6       Dawn     Adkins          Dawn.Adkins@gmail.com  female   \n",
      "7        7       Anna    Aguilar               AA9306@gmail.com  female   \n",
      "8        8    Michele     Albert               MA7730@gmail.com  female   \n",
      "9        9       Joel   Alvarado               JA8797@gmail.com    male   \n",
      "10      10     Cheryl     Ashley          CAshley1996@gmail.com  female   \n",
      "11      11    Roberta     Atkins       Roberta.Atkins@gmail.com  female   \n",
      "12      12     Ashley      Avila           AAvila1987@gmail.com  female   \n",
      "13      13    Jeffrey      Ayers               JA2824@gmail.com    male   \n",
      "14      14   Terrence      Ayers       Terrence.Ayers@gmail.com    male   \n",
      "15      15     Jeremy    Baldwin       Jeremy.Baldwin@gmail.com    male   \n",
      "16      16     Sylvia       Ball               SB3116@gmail.com  female   \n",
      "17      17      Jesse    Ballard         JBallard1991@gmail.com    male   \n",
      "18      18     Margie    Ballard       MBallard1997@outlook.com  female   \n",
      "19      19     Arnold    Ballard       ABallard1998@hotmail.com    male   \n",
      "20      20     Claire     Barker          CBarker1997@gmail.com  female   \n",
      "21      21       Mark     Barlow         MarkBarlow10@gmail.com    male   \n",
      "22      22     Robert       Barr         RobertBarr30@gmail.com    male   \n",
      "23      23     Dwight    Barrera    DwightBarrera96@outlook.com    male   \n",
      "24      24       Ivan     Barron             IB8386@hotmail.com    male   \n",
      "25      25    Marlene     Barron          MBarron1979@yahoo.com  female   \n",
      "26      26    Shirley       Bass            SBass1970@gmail.com  female   \n",
      "27      27     Marcus      Bauer         Marcus.Bauer@gmail.com    male   \n",
      "28      28      Chris      Bauer               CB8607@gmail.com    male   \n",
      "29      29    Gilbert      Beach             GB3436@outlook.com    male   \n",
      "..     ...        ...        ...                            ...     ...   \n",
      "545    545      Julio      Walsh           JWalsh1972@gmail.com    male   \n",
      "546    546        Max     Warner               MW4916@gmail.com    male   \n",
      "547    547     Regina    Webster         RWebster1980@gmail.com  female   \n",
      "548    548  Alexander    Webster  Alexander.Webster@outlook.com    male   \n",
      "549    549      Kathy      Weeks           KWeeks1983@yahoo.com  female   \n",
      "550    550    Christy      Weiss       ChristyWeiss59@gmail.com  female   \n",
      "551    551      Keith   Whitaker        KWhitaker1978@gmail.com    male   \n",
      "552    552    Juanita   Whitaker     Juanita.Whitaker@gmail.com  female   \n",
      "553    553    Marilyn   Whitaker        MWhitaker1993@gmail.com  female   \n",
      "554    554    Melinda  Whitfield               MW7937@gmail.com  female   \n",
      "555    555     Lillie  Whitfield    LillieWhitfield83@gmail.com  female   \n",
      "556    556      Velma  Whitfield      Velma.Whitfield@gmail.com  female   \n",
      "557    557     Darren    Whitney       DWhitney1970@hotmail.com    male   \n",
      "558    558      Sonia    Whitney       SWhitney1994@outlook.com  female   \n",
      "559    559    Brandon    Wiggins     BrandonWiggins78@gmail.com    male   \n",
      "560    560      April     Wilcox         April.Wilcox@gmail.com  female   \n",
      "561    561  Stephanie     Wilcox               SW9513@gmail.com  female   \n",
      "562    562   Victoria  Wilkerson               VW5128@gmail.com  female   \n",
      "563    563   Gertrude  Wilkerson   Gertrude.Wilkerson@yahoo.com  female   \n",
      "564    564      Alice       Witt            AWitt1990@yahoo.com  female   \n",
      "565    565        Mae       Witt            MWitt1976@gmail.com  female   \n",
      "566    566       Paul       Wolf           PaulWolf34@gmail.com    male   \n",
      "567    567  Christian      Wolfe           CWolfe1990@gmail.com    male   \n",
      "568    568      Lloyd       Wong            LWong1999@gmail.com    male   \n",
      "569    569   Benjamin       Wong               BW7382@gmail.com    male   \n",
      "570    570       Rosa    Woodard      RosaWoodard27@outlook.com  female   \n",
      "571    571       Gary       Yang               GY3609@gmail.com    male   \n",
      "572    572     Sharon      Yates         Sharon.Yates@gmail.com  female   \n",
      "573    573     Billie      Yates      BillieYates91@hotmail.com  female   \n",
      "574    574    Jeffery     Zamora               JZ2811@gmail.com    male   \n",
      "\n",
      "    application_date  \n",
      "0         2017-08-12  \n",
      "1         2017-09-29  \n",
      "2         2017-09-15  \n",
      "3         2017-07-26  \n",
      "4         2017-07-14  \n",
      "5         2017-08-12  \n",
      "6         2017-08-24  \n",
      "7         2017-09-10  \n",
      "8         2017-09-04  \n",
      "9         2017-07-05  \n",
      "10        2017-08-28  \n",
      "11        2017-08-14  \n",
      "12        2017-08-31  \n",
      "13        2017-07-29  \n",
      "14        2017-07-10  \n",
      "15        2017-08-30  \n",
      "16        2017-09-18  \n",
      "17        2017-09-26  \n",
      "18        2017-08-03  \n",
      "19        2017-08-16  \n",
      "20        2017-07-19  \n",
      "21        2017-09-11  \n",
      "22        2017-09-30  \n",
      "23        2017-09-30  \n",
      "24        2017-08-11  \n",
      "25        2017-07-11  \n",
      "26        2017-08-04  \n",
      "27        2017-07-03  \n",
      "28        2017-07-21  \n",
      "29        2017-07-25  \n",
      "..               ...  \n",
      "545       2017-07-26  \n",
      "546       2017-09-20  \n",
      "547       2017-09-01  \n",
      "548       2017-07-17  \n",
      "549       2017-10-04  \n",
      "550       2017-07-30  \n",
      "551       2017-08-12  \n",
      "552       2017-09-12  \n",
      "553       2017-07-19  \n",
      "554       2017-08-10  \n",
      "555       2017-08-10  \n",
      "556       2017-08-29  \n",
      "557       2017-09-19  \n",
      "558       2017-08-28  \n",
      "559       2017-07-05  \n",
      "560       2017-08-07  \n",
      "561       2017-07-04  \n",
      "562       2017-08-09  \n",
      "563       2017-08-29  \n",
      "564       2017-10-01  \n",
      "565       2017-08-12  \n",
      "566       2017-09-21  \n",
      "567       2017-08-27  \n",
      "568       2017-08-22  \n",
      "569       2017-08-26  \n",
      "570       2017-09-08  \n",
      "571       2017-08-16  \n",
      "572       2017-07-18  \n",
      "573       2017-08-10  \n",
      "574       2017-07-24  \n",
      "\n",
      "[575 rows x 6 columns]\n"
     ]
    }
   ],
   "source": [
    "# Examine applications here\n",
    "appls = sql_query('''SELECT *\n",
    "               FROM applications''')\n",
    "print(appls)"
   ]
  },
  {
   "cell_type": "code",
   "execution_count": 21,
   "metadata": {},
   "outputs": [
    {
     "name": "stdout",
     "output_type": "stream",
     "text": [
      "     index first_name  last_name                          email  gender  \\\n",
      "0        0        Roy     Abbott          RoyAbbott32@gmail.com    male   \n",
      "1        1    Roberta    Acevedo               RA8063@gmail.com  female   \n",
      "2        2     Vernon     Acosta          VAcosta1975@gmail.com    male   \n",
      "3        3     Darren     Acosta        DAcosta1996@hotmail.com    male   \n",
      "4        4       Dawn     Adkins          Dawn.Adkins@gmail.com  female   \n",
      "5        5        Ray     Adkins          RAdkins1997@gmail.com    male   \n",
      "6        6       Anna    Aguilar               AA9306@gmail.com  female   \n",
      "7        7    Michele     Albert               MA7730@gmail.com  female   \n",
      "8        8       Joel   Alvarado               JA8797@gmail.com    male   \n",
      "9        9     Cheryl     Ashley          CAshley1996@gmail.com  female   \n",
      "10      10    Roberta     Atkins       Roberta.Atkins@gmail.com  female   \n",
      "11      11     Ashley      Avila           AAvila1987@gmail.com  female   \n",
      "12      12     Sylvia       Ball               SB3116@gmail.com  female   \n",
      "13      13      Jesse    Ballard         JBallard1991@gmail.com    male   \n",
      "14      14     Margie    Ballard       MBallard1997@outlook.com  female   \n",
      "15      15     Arnold    Ballard       ABallard1998@hotmail.com    male   \n",
      "16      16     Claire     Barker          CBarker1997@gmail.com  female   \n",
      "17      17     Robert       Barr         RobertBarr30@gmail.com    male   \n",
      "18      18     Dwight    Barrera    DwightBarrera96@outlook.com    male   \n",
      "19      19       Ivan     Barron             IB8386@hotmail.com    male   \n",
      "20      20    Marlene     Barron          MBarron1979@yahoo.com  female   \n",
      "21      21    Shirley       Bass            SBass1970@gmail.com  female   \n",
      "22      22     Marcus      Bauer         Marcus.Bauer@gmail.com    male   \n",
      "23      23    Gilbert      Beach             GB3436@outlook.com    male   \n",
      "24      24    Armando     Bender       Armando.Bender@gmail.com    male   \n",
      "25      25   Jonathan   Benjamin   JonathanBenjamin38@gmail.com    male   \n",
      "26      26       Gene       Berg            GBerg1984@gmail.com    male   \n",
      "27      27       Lena    Bernard        LenaBernard15@gmail.com  female   \n",
      "28      28     Leslie    Bernard      LeslieBernard55@gmail.com    male   \n",
      "29      29   Franklin    Bernard    FranklinBernard26@gmail.com    male   \n",
      "..     ...        ...        ...                            ...     ...   \n",
      "420    420      Nancy     Waller        NancyWaller93@gmail.com  female   \n",
      "421    421     Billie      Walls               BW8914@gmail.com  female   \n",
      "422    422      Julio      Walsh           JWalsh1972@gmail.com    male   \n",
      "423    423        Max     Warner               MW4916@gmail.com    male   \n",
      "424    424  Alexander    Webster  Alexander.Webster@outlook.com    male   \n",
      "425    425     Regina    Webster         RWebster1980@gmail.com  female   \n",
      "426    426      Kathy      Weeks           KWeeks1983@yahoo.com  female   \n",
      "427    427    Christy      Weiss       ChristyWeiss59@gmail.com  female   \n",
      "428    428    Marilyn   Whitaker        MWhitaker1993@gmail.com  female   \n",
      "429    429    Juanita   Whitaker     Juanita.Whitaker@gmail.com  female   \n",
      "430    430      Keith   Whitaker        KWhitaker1978@gmail.com    male   \n",
      "431    431      Velma  Whitfield      Velma.Whitfield@gmail.com  female   \n",
      "432    432    Melinda  Whitfield               MW7937@gmail.com  female   \n",
      "433    433     Lillie  Whitfield    LillieWhitfield83@gmail.com  female   \n",
      "434    434      Sonia    Whitney       SWhitney1994@outlook.com  female   \n",
      "435    435     Darren    Whitney       DWhitney1970@hotmail.com    male   \n",
      "436    436    Brandon    Wiggins     BrandonWiggins78@gmail.com    male   \n",
      "437    437      April     Wilcox         April.Wilcox@gmail.com  female   \n",
      "438    438   Gertrude  Wilkerson   Gertrude.Wilkerson@yahoo.com  female   \n",
      "439    439   Victoria  Wilkerson               VW5128@gmail.com  female   \n",
      "440    440        Mae       Witt            MWitt1976@gmail.com  female   \n",
      "441    441      Alice       Witt            AWitt1990@yahoo.com  female   \n",
      "442    442  Christian      Wolfe           CWolfe1990@gmail.com    male   \n",
      "443    443      Lloyd       Wong            LWong1999@gmail.com    male   \n",
      "444    444   Benjamin       Wong               BW7382@gmail.com    male   \n",
      "445    445       Rosa    Woodard      RosaWoodard27@outlook.com  female   \n",
      "446    446       Gary       Yang               GY3609@gmail.com    male   \n",
      "447    447     Sharon      Yates         Sharon.Yates@gmail.com  female   \n",
      "448    448     Billie      Yates      BillieYates91@hotmail.com  female   \n",
      "449    449    Jeffery     Zamora               JZ2811@gmail.com    male   \n",
      "\n",
      "    purchase_date  \n",
      "0      2017-08-18  \n",
      "1      2017-09-16  \n",
      "2      2017-07-20  \n",
      "3      2017-07-27  \n",
      "4      2017-08-24  \n",
      "5      2017-08-13  \n",
      "6      2017-09-16  \n",
      "7      2017-09-10  \n",
      "8      2017-07-08  \n",
      "9      2017-09-02  \n",
      "10     2017-08-17  \n",
      "11     2017-09-04  \n",
      "12     2017-09-18  \n",
      "13     2017-09-28  \n",
      "14     2017-08-08  \n",
      "15     2017-08-16  \n",
      "16     2017-07-19  \n",
      "17     2017-10-02  \n",
      "18     2017-10-01  \n",
      "19     2017-08-14  \n",
      "20     2017-07-15  \n",
      "21     2017-08-08  \n",
      "22     2017-07-05  \n",
      "23     2017-07-25  \n",
      "24     2017-07-13  \n",
      "25     2017-08-21  \n",
      "26     2017-07-22  \n",
      "27     2017-08-17  \n",
      "28     2017-07-26  \n",
      "29     2017-08-04  \n",
      "..            ...  \n",
      "420    2017-08-21  \n",
      "421    2017-07-25  \n",
      "422    2017-08-01  \n",
      "423    2017-09-24  \n",
      "424    2017-07-20  \n",
      "425    2017-09-03  \n",
      "426    2017-10-10  \n",
      "427    2017-08-01  \n",
      "428    2017-07-23  \n",
      "429    2017-09-18  \n",
      "430    2017-08-17  \n",
      "431    2017-08-30  \n",
      "432    2017-08-11  \n",
      "433    2017-08-12  \n",
      "434    2017-08-30  \n",
      "435    2017-09-20  \n",
      "436    2017-07-07  \n",
      "437    2017-08-11  \n",
      "438    2017-08-29  \n",
      "439    2017-08-14  \n",
      "440    2017-08-18  \n",
      "441    2017-10-05  \n",
      "442    2017-08-31  \n",
      "443    2017-08-23  \n",
      "444    2017-08-31  \n",
      "445    2017-09-14  \n",
      "446    2017-08-19  \n",
      "447    2017-07-22  \n",
      "448    2017-08-10  \n",
      "449    2017-07-26  \n",
      "\n",
      "[450 rows x 6 columns]\n"
     ]
    }
   ],
   "source": [
    "# Examine purchases here\n",
    "purchases = sql_query('''SELECT *\n",
    "               FROM purchases''')\n",
    "print(purchases)"
   ]
  },
  {
   "cell_type": "markdown",
   "metadata": {},
   "source": [
    "We'd like to download a giant DataFrame containing all of this data.  You'll need to write a query that does the following things:\n",
    "\n",
    "1. Not all visits in  `visits` occurred during the A/B test.  You'll only want to pull data where `visit_date` is on or after `7-1-17`.\n",
    "\n",
    "2. You'll want to perform a series of `LEFT JOIN` commands to combine the four tables that we care about.  You'll need to perform the joins on `first_name`, `last_name`, and `email`.  Pull the following columns:\n",
    "\n",
    "\n",
    "- `visits.first_name`\n",
    "- `visits.last_name`\n",
    "- `visits.gender`\n",
    "- `visits.email`\n",
    "- `visits.visit_date`\n",
    "- `fitness_tests.fitness_test_date`\n",
    "- `applications.application_date`\n",
    "- `purchases.purchase_date`\n",
    "\n",
    "Save the result of this query to a variable called `df`.\n",
    "\n",
    "Hint: your result should have 5004 rows.  Does it?"
   ]
  },
  {
   "cell_type": "code",
   "execution_count": 22,
   "metadata": {},
   "outputs": [
    {
     "name": "stdout",
     "output_type": "stream",
     "text": [
      "     first_name   last_name  gender                          email visit_date  \\\n",
      "0           Kim      Walter  female          KimWalter58@gmail.com     7-1-17   \n",
      "1           Tom     Webster    male               TW3857@gmail.com     7-1-17   \n",
      "2        Edward       Bowen    male         Edward.Bowen@gmail.com     7-1-17   \n",
      "3        Marcus       Bauer    male         Marcus.Bauer@gmail.com     7-1-17   \n",
      "4       Roberta        Best  female             RB6305@hotmail.com     7-1-17   \n",
      "5        Joseph       Foley    male        JosephFoley81@gmail.com     7-1-17   \n",
      "6        Carrie     Francis  female             CF1896@hotmail.com     7-1-17   \n",
      "7        Sharon     William  female     Sharon.William@outlook.com     7-1-17   \n",
      "8        Teresa       Yates  female           TYates1988@gmail.com     7-1-17   \n",
      "9      Salvador    Cardenas    male        SCardenas1980@gmail.com     7-1-17   \n",
      "10         Glen      Barker    male          GBarker1976@gmail.com     7-1-17   \n",
      "11      Valerie       Munoz  female           VMunoz1998@gmail.com     7-1-17   \n",
      "12       Jeremy        Howe    male            JHowe1982@gmail.com     7-1-17   \n",
      "13         Joel       Combs    male               JC9481@gmail.com     7-1-17   \n",
      "14        Oscar      Forbes    male         Oscar.Forbes@gmail.com     7-1-17   \n",
      "15       Darryl      Albert    male          DAlbert1975@gmail.com     7-1-17   \n",
      "16      Armando  Valenzuela    male  ArmandoValenzuela67@gmail.com     7-1-17   \n",
      "17         June       Ayers  female               JA2612@gmail.com     7-1-17   \n",
      "18        Nancy       Morin  female          Nancy.Morin@gmail.com     7-1-17   \n",
      "19     Lorraine     Lindsay  female               LL3161@gmail.com     7-1-17   \n",
      "20        Carla    Guerrero  female               CG6354@gmail.com     7-1-17   \n",
      "21         Gina      Monroe  female          GMonroe1973@gmail.com     7-1-17   \n",
      "22         Andy    Roberson    male        ARoberson1972@yahoo.com     7-1-17   \n",
      "23       Arnold      Madden    male          AMadden1998@gmail.com     7-1-17   \n",
      "24       Norman   Frederick    male               NF6074@gmail.com     7-1-17   \n",
      "25       Morris        Lott    male               ML9504@gmail.com     7-1-17   \n",
      "26         Cory      Gamble    male          CGamble1983@gmail.com     7-1-17   \n",
      "27       Marcus     Gilliam    male         MGilliam1997@gmail.com     7-1-17   \n",
      "28     Clifford     Guthrie    male     Clifford.Guthrie@gmail.com     7-1-17   \n",
      "29        Terry     Merrill    male       TerryMerrill91@gmail.com     7-1-17   \n",
      "...         ...         ...     ...                            ...        ...   \n",
      "4974    Dolores     Nielsen  female       DNielsen1989@outlook.com     9-9-17   \n",
      "4975      Kathy       Drake  female         KathyDrake58@yahoo.com     9-9-17   \n",
      "4976      Misty    Roberson  female       Misty.Roberson@gmail.com     9-9-17   \n",
      "4977     Marian      Daniel  female      Marian.Daniel@outlook.com     9-9-17   \n",
      "4978      Wanda        Snow  female          WandaSnow93@gmail.com     9-9-17   \n",
      "4979     Nathan    Gallegos    male        NGallegos1993@gmail.com     9-9-17   \n",
      "4980     Evelyn      Reeves  female      Evelyn.Reeves@hotmail.com     9-9-17   \n",
      "4981      Kelly        Tate    male               KT1133@yahoo.com     9-9-17   \n",
      "4982     Willie        Mann  female            WMann1985@gmail.com     9-9-17   \n",
      "4983      Ellen       Blake  female               EB2921@gmail.com     9-9-17   \n",
      "4984   Marjorie        Wong  female            MWong1985@gmail.com     9-9-17   \n",
      "4985     Margie      Walton  female        Margie.Walton@gmail.com     9-9-17   \n",
      "4986      Peter    Figueroa    male               PF2641@gmail.com     9-9-17   \n",
      "4987    Clifton        Leon    male         Clifton.Leon@gmail.com     9-9-17   \n",
      "4988     Gordon    Espinoza    male               GE6498@gmail.com     9-9-17   \n",
      "4989       Luis       Horne    male             LH9941@outlook.com     9-9-17   \n",
      "4990    Francis      Durham    male      FrancisDurham84@gmail.com     9-9-17   \n",
      "4991    Suzanne    Humphrey  female     SuzanneHumphrey4@gmail.com     9-9-17   \n",
      "4992      Glenn      Kinney    male         Glenn.Kinney@gmail.com     9-9-17   \n",
      "4993       Jose   Stevenson    male      JoseStevenson56@gmail.com     9-9-17   \n",
      "4994    Gregory        Wong    male            GWong1970@gmail.com     9-9-17   \n",
      "4995       Dean       Mejia    male               DM7848@gmail.com     9-9-17   \n",
      "4996     Sharon        Hahn  female               SH5322@gmail.com     9-9-17   \n",
      "4997       Adam      Grimes    male          Adam.Grimes@gmail.com     9-9-17   \n",
      "4998       Sara      Malone  female          SMalone1995@gmail.com     9-9-17   \n",
      "4999     Rachel     Hensley  female      RachelHensley38@gmail.com     9-9-17   \n",
      "5000       Leon      Harmon    male          Leon.Harmon@gmail.com     9-9-17   \n",
      "5001       Andy       Pratt    male          AndyPratt27@gmail.com     9-9-17   \n",
      "5002      Ruben     Nielsen    male     RubenNielsen93@hotmail.com     9-9-17   \n",
      "5003    Charles      Carver    male               CC2490@gmail.com     9-9-17   \n",
      "\n",
      "     fitness_test_date application_date purchase_date  \n",
      "0           2017-07-03             None          None  \n",
      "1           2017-07-02             None          None  \n",
      "2                 None       2017-07-04    2017-07-04  \n",
      "3           2017-07-01       2017-07-03    2017-07-05  \n",
      "4           2017-07-02             None          None  \n",
      "5                 None             None          None  \n",
      "6           2017-07-05             None          None  \n",
      "7                 None             None          None  \n",
      "8           2017-07-02             None          None  \n",
      "9           2017-07-07       2017-07-06          None  \n",
      "10                None             None          None  \n",
      "11          2017-07-03       2017-07-05    2017-07-06  \n",
      "12          2017-07-06             None          None  \n",
      "13          2017-07-01             None          None  \n",
      "14                None             None          None  \n",
      "15                None             None          None  \n",
      "16                None             None          None  \n",
      "17                None             None          None  \n",
      "18          2017-07-05             None          None  \n",
      "19          2017-07-05             None          None  \n",
      "20          2017-07-03             None          None  \n",
      "21                None             None          None  \n",
      "22          2017-07-05             None          None  \n",
      "23          2017-07-01             None          None  \n",
      "24                None             None          None  \n",
      "25          2017-07-03             None          None  \n",
      "26                None             None          None  \n",
      "27                None             None          None  \n",
      "28          2017-07-04             None          None  \n",
      "29                None             None          None  \n",
      "...                ...              ...           ...  \n",
      "4974        2017-09-14             None          None  \n",
      "4975              None             None          None  \n",
      "4976        2017-09-14             None          None  \n",
      "4977              None             None          None  \n",
      "4978              None             None          None  \n",
      "4979              None             None          None  \n",
      "4980              None             None          None  \n",
      "4981        2017-09-12             None          None  \n",
      "4982        2017-09-11             None          None  \n",
      "4983        2017-09-10             None          None  \n",
      "4984              None             None          None  \n",
      "4985              None             None          None  \n",
      "4986        2017-09-15             None          None  \n",
      "4987        2017-09-12             None          None  \n",
      "4988        2017-09-12             None          None  \n",
      "4989              None             None          None  \n",
      "4990              None             None          None  \n",
      "4991        2017-09-09       2017-09-13    2017-09-18  \n",
      "4992              None             None          None  \n",
      "4993              None             None          None  \n",
      "4994        2017-09-09             None          None  \n",
      "4995        2017-09-13             None          None  \n",
      "4996              None             None          None  \n",
      "4997              None             None          None  \n",
      "4998        2017-09-13             None          None  \n",
      "4999              None             None          None  \n",
      "5000        2017-09-15             None          None  \n",
      "5001        2017-09-15             None          None  \n",
      "5002              None       2017-09-13          None  \n",
      "5003        2017-09-12             None          None  \n",
      "\n",
      "[5004 rows x 8 columns]\n"
     ]
    }
   ],
   "source": [
    "df = sql_query('''WITH t1 AS(\n",
    "SELECT visits.first_name, visits.last_name, visits.gender, visits.email, visits.visit_date, fitness_tests.fitness_test_date\n",
    "FROM visits\n",
    "LEFT JOIN fitness_tests\n",
    "ON visits.first_name = fitness_tests.first_name AND \n",
    "visits.last_name = fitness_tests.last_name AND\n",
    "visits.email = fitness_tests.email), \n",
    "\n",
    "t2 AS(\n",
    "SELECT t1.first_name, t1.last_name, t1.gender, t1.email, t1.visit_date, t1.fitness_test_date, applications.application_date\n",
    "FROM t1\n",
    "LEFT JOIN applications\n",
    "ON t1.first_name = applications.first_name AND \n",
    "t1.last_name = applications.last_name AND\n",
    "t1.email = applications.email),\n",
    "\n",
    "t3 AS(\n",
    "SELECT t2.first_name, t2.last_name, t2.gender, t2.email, t2.visit_date, t2.fitness_test_date, t2.application_date, purchases.purchase_date\n",
    "FROM t2\n",
    "LEFT JOIN purchases\n",
    "ON t2.first_name = purchases.first_name AND \n",
    "t2.last_name = purchases.last_name AND\n",
    "t2.email = purchases.email)\n",
    "SELECT *\n",
    "FROM t3\n",
    "WHERE visit_date >= '7-1-17'\n",
    "''')\n",
    "print(df)\n"
   ]
  },
  {
   "cell_type": "markdown",
   "metadata": {},
   "source": [
    "## Step 3: Investigate the A and B groups"
   ]
  },
  {
   "cell_type": "markdown",
   "metadata": {},
   "source": [
    "We have some data to work with! Import the following modules so that we can start doing analysis:\n",
    "- `import pandas as pd`\n",
    "- `from matplotlib import pyplot as plt`"
   ]
  },
  {
   "cell_type": "code",
   "execution_count": 23,
   "metadata": {},
   "outputs": [],
   "source": [
    "import pandas as pd\n",
    "from matplotlib import pyplot as plt\n"
   ]
  },
  {
   "cell_type": "markdown",
   "metadata": {},
   "source": [
    "We're going to add some columns to `df` to help us with our analysis.\n",
    "\n",
    "Start by adding a column called `ab_test_group`.  It should be `A` if `fitness_test_date` is not `None`, and `B` if `fitness_test_date` is `None`."
   ]
  },
  {
   "cell_type": "code",
   "execution_count": 24,
   "metadata": {},
   "outputs": [
    {
     "name": "stdout",
     "output_type": "stream",
     "text": [
      "     first_name   last_name  gender                          email visit_date  \\\n",
      "0           Kim      Walter  female          KimWalter58@gmail.com     7-1-17   \n",
      "1           Tom     Webster    male               TW3857@gmail.com     7-1-17   \n",
      "2        Edward       Bowen    male         Edward.Bowen@gmail.com     7-1-17   \n",
      "3        Marcus       Bauer    male         Marcus.Bauer@gmail.com     7-1-17   \n",
      "4       Roberta        Best  female             RB6305@hotmail.com     7-1-17   \n",
      "5        Joseph       Foley    male        JosephFoley81@gmail.com     7-1-17   \n",
      "6        Carrie     Francis  female             CF1896@hotmail.com     7-1-17   \n",
      "7        Sharon     William  female     Sharon.William@outlook.com     7-1-17   \n",
      "8        Teresa       Yates  female           TYates1988@gmail.com     7-1-17   \n",
      "9      Salvador    Cardenas    male        SCardenas1980@gmail.com     7-1-17   \n",
      "10         Glen      Barker    male          GBarker1976@gmail.com     7-1-17   \n",
      "11      Valerie       Munoz  female           VMunoz1998@gmail.com     7-1-17   \n",
      "12       Jeremy        Howe    male            JHowe1982@gmail.com     7-1-17   \n",
      "13         Joel       Combs    male               JC9481@gmail.com     7-1-17   \n",
      "14        Oscar      Forbes    male         Oscar.Forbes@gmail.com     7-1-17   \n",
      "15       Darryl      Albert    male          DAlbert1975@gmail.com     7-1-17   \n",
      "16      Armando  Valenzuela    male  ArmandoValenzuela67@gmail.com     7-1-17   \n",
      "17         June       Ayers  female               JA2612@gmail.com     7-1-17   \n",
      "18        Nancy       Morin  female          Nancy.Morin@gmail.com     7-1-17   \n",
      "19     Lorraine     Lindsay  female               LL3161@gmail.com     7-1-17   \n",
      "20        Carla    Guerrero  female               CG6354@gmail.com     7-1-17   \n",
      "21         Gina      Monroe  female          GMonroe1973@gmail.com     7-1-17   \n",
      "22         Andy    Roberson    male        ARoberson1972@yahoo.com     7-1-17   \n",
      "23       Arnold      Madden    male          AMadden1998@gmail.com     7-1-17   \n",
      "24       Norman   Frederick    male               NF6074@gmail.com     7-1-17   \n",
      "25       Morris        Lott    male               ML9504@gmail.com     7-1-17   \n",
      "26         Cory      Gamble    male          CGamble1983@gmail.com     7-1-17   \n",
      "27       Marcus     Gilliam    male         MGilliam1997@gmail.com     7-1-17   \n",
      "28     Clifford     Guthrie    male     Clifford.Guthrie@gmail.com     7-1-17   \n",
      "29        Terry     Merrill    male       TerryMerrill91@gmail.com     7-1-17   \n",
      "...         ...         ...     ...                            ...        ...   \n",
      "4974    Dolores     Nielsen  female       DNielsen1989@outlook.com     9-9-17   \n",
      "4975      Kathy       Drake  female         KathyDrake58@yahoo.com     9-9-17   \n",
      "4976      Misty    Roberson  female       Misty.Roberson@gmail.com     9-9-17   \n",
      "4977     Marian      Daniel  female      Marian.Daniel@outlook.com     9-9-17   \n",
      "4978      Wanda        Snow  female          WandaSnow93@gmail.com     9-9-17   \n",
      "4979     Nathan    Gallegos    male        NGallegos1993@gmail.com     9-9-17   \n",
      "4980     Evelyn      Reeves  female      Evelyn.Reeves@hotmail.com     9-9-17   \n",
      "4981      Kelly        Tate    male               KT1133@yahoo.com     9-9-17   \n",
      "4982     Willie        Mann  female            WMann1985@gmail.com     9-9-17   \n",
      "4983      Ellen       Blake  female               EB2921@gmail.com     9-9-17   \n",
      "4984   Marjorie        Wong  female            MWong1985@gmail.com     9-9-17   \n",
      "4985     Margie      Walton  female        Margie.Walton@gmail.com     9-9-17   \n",
      "4986      Peter    Figueroa    male               PF2641@gmail.com     9-9-17   \n",
      "4987    Clifton        Leon    male         Clifton.Leon@gmail.com     9-9-17   \n",
      "4988     Gordon    Espinoza    male               GE6498@gmail.com     9-9-17   \n",
      "4989       Luis       Horne    male             LH9941@outlook.com     9-9-17   \n",
      "4990    Francis      Durham    male      FrancisDurham84@gmail.com     9-9-17   \n",
      "4991    Suzanne    Humphrey  female     SuzanneHumphrey4@gmail.com     9-9-17   \n",
      "4992      Glenn      Kinney    male         Glenn.Kinney@gmail.com     9-9-17   \n",
      "4993       Jose   Stevenson    male      JoseStevenson56@gmail.com     9-9-17   \n",
      "4994    Gregory        Wong    male            GWong1970@gmail.com     9-9-17   \n",
      "4995       Dean       Mejia    male               DM7848@gmail.com     9-9-17   \n",
      "4996     Sharon        Hahn  female               SH5322@gmail.com     9-9-17   \n",
      "4997       Adam      Grimes    male          Adam.Grimes@gmail.com     9-9-17   \n",
      "4998       Sara      Malone  female          SMalone1995@gmail.com     9-9-17   \n",
      "4999     Rachel     Hensley  female      RachelHensley38@gmail.com     9-9-17   \n",
      "5000       Leon      Harmon    male          Leon.Harmon@gmail.com     9-9-17   \n",
      "5001       Andy       Pratt    male          AndyPratt27@gmail.com     9-9-17   \n",
      "5002      Ruben     Nielsen    male     RubenNielsen93@hotmail.com     9-9-17   \n",
      "5003    Charles      Carver    male               CC2490@gmail.com     9-9-17   \n",
      "\n",
      "     fitness_test_date application_date purchase_date ab_test_group  \n",
      "0           2017-07-03             None          None             A  \n",
      "1           2017-07-02             None          None             A  \n",
      "2                 None       2017-07-04    2017-07-04             B  \n",
      "3           2017-07-01       2017-07-03    2017-07-05             A  \n",
      "4           2017-07-02             None          None             A  \n",
      "5                 None             None          None             B  \n",
      "6           2017-07-05             None          None             A  \n",
      "7                 None             None          None             B  \n",
      "8           2017-07-02             None          None             A  \n",
      "9           2017-07-07       2017-07-06          None             A  \n",
      "10                None             None          None             B  \n",
      "11          2017-07-03       2017-07-05    2017-07-06             A  \n",
      "12          2017-07-06             None          None             A  \n",
      "13          2017-07-01             None          None             A  \n",
      "14                None             None          None             B  \n",
      "15                None             None          None             B  \n",
      "16                None             None          None             B  \n",
      "17                None             None          None             B  \n",
      "18          2017-07-05             None          None             A  \n",
      "19          2017-07-05             None          None             A  \n",
      "20          2017-07-03             None          None             A  \n",
      "21                None             None          None             B  \n",
      "22          2017-07-05             None          None             A  \n",
      "23          2017-07-01             None          None             A  \n",
      "24                None             None          None             B  \n",
      "25          2017-07-03             None          None             A  \n",
      "26                None             None          None             B  \n",
      "27                None             None          None             B  \n",
      "28          2017-07-04             None          None             A  \n",
      "29                None             None          None             B  \n",
      "...                ...              ...           ...           ...  \n",
      "4974        2017-09-14             None          None             A  \n",
      "4975              None             None          None             B  \n",
      "4976        2017-09-14             None          None             A  \n",
      "4977              None             None          None             B  \n",
      "4978              None             None          None             B  \n",
      "4979              None             None          None             B  \n",
      "4980              None             None          None             B  \n",
      "4981        2017-09-12             None          None             A  \n",
      "4982        2017-09-11             None          None             A  \n",
      "4983        2017-09-10             None          None             A  \n",
      "4984              None             None          None             B  \n",
      "4985              None             None          None             B  \n",
      "4986        2017-09-15             None          None             A  \n",
      "4987        2017-09-12             None          None             A  \n",
      "4988        2017-09-12             None          None             A  \n",
      "4989              None             None          None             B  \n",
      "4990              None             None          None             B  \n",
      "4991        2017-09-09       2017-09-13    2017-09-18             A  \n",
      "4992              None             None          None             B  \n",
      "4993              None             None          None             B  \n",
      "4994        2017-09-09             None          None             A  \n",
      "4995        2017-09-13             None          None             A  \n",
      "4996              None             None          None             B  \n",
      "4997              None             None          None             B  \n",
      "4998        2017-09-13             None          None             A  \n",
      "4999              None             None          None             B  \n",
      "5000        2017-09-15             None          None             A  \n",
      "5001        2017-09-15             None          None             A  \n",
      "5002              None       2017-09-13          None             B  \n",
      "5003        2017-09-12             None          None             A  \n",
      "\n",
      "[5004 rows x 9 columns]\n"
     ]
    }
   ],
   "source": [
    "df[\"ab_test_group\"] = df.fitness_test_date.apply(lambda x: \"A\" if pd.notna(x) else \"B\")\n",
    "print(df)"
   ]
  },
  {
   "cell_type": "markdown",
   "metadata": {},
   "source": [
    "Let's do a quick sanity check that Janet split her visitors such that about half are in A and half are in B.\n",
    "\n",
    "Start by using `groupby` to count how many users are in each `ab_test_group`.  Save the results to `ab_counts`."
   ]
  },
  {
   "cell_type": "code",
   "execution_count": 25,
   "metadata": {},
   "outputs": [
    {
     "name": "stdout",
     "output_type": "stream",
     "text": [
      "<bound method Series.reset_index of ab_test_group\n",
      "A    2504\n",
      "B    2500\n",
      "Name: first_name, dtype: int64>\n"
     ]
    }
   ],
   "source": [
    "ab_counts = df.groupby(\"ab_test_group\").first_name.count().reset_index\n",
    "print(ab_counts)"
   ]
  },
  {
   "cell_type": "markdown",
   "metadata": {},
   "source": [
    "We'll want to include this information in our presentation.  Let's create a pie cart using `plt.pie`.  Make sure to include:\n",
    "- Use `plt.axis('equal')` so that your pie chart looks nice\n",
    "- Add a legend labeling `A` and `B`\n",
    "- Use `autopct` to label the percentage of each group\n",
    "- Save your figure as `ab_test_pie_chart.png`"
   ]
  },
  {
   "cell_type": "code",
   "execution_count": 26,
   "metadata": {},
   "outputs": [
    {
     "data": {
      "image/png": "[encoded data removed]",
      "text/plain": [
       "<Figure size 432x288 with 1 Axes>"
      ]
     },
     "metadata": {},
     "output_type": "display_data"
    }
   ],
   "source": [
    "values = [2504,2500]\n",
    "labelnames= [\"A\", \"B\"]\n",
    "plt.pie(values, labels=labelnames, autopct = \"%0.2f%%\")\n",
    "plt.axis(\"equal\")\n",
    "plt.savefig(\"ABGroupNums.png\")\n",
    "plt.show()"
   ]
  },
  {
   "cell_type": "markdown",
   "metadata": {},
   "source": [
    "## Step 4: Who picks up an application?"
   ]
  },
  {
   "cell_type": "markdown",
   "metadata": {},
   "source": [
    "Recall that the sign-up process for MuscleHub has several steps:\n",
    "1. Take a fitness test with a personal trainer (only Group A)\n",
    "2. Fill out an application for the gym\n",
    "3. Send in their payment for their first month's membership\n",
    "\n",
    "Let's examine how many people make it to Step 2, filling out an application.\n",
    "\n",
    "Start by creating a new column in `df` called `is_application` which is `Application` if `application_date` is not `None` and `No Application`, otherwise."
   ]
  },
  {
   "cell_type": "code",
   "execution_count": 27,
   "metadata": {},
   "outputs": [
    {
     "name": "stdout",
     "output_type": "stream",
     "text": [
      "  first_name last_name  gender                       email visit_date  \\\n",
      "0        Kim    Walter  female       KimWalter58@gmail.com     7-1-17   \n",
      "1        Tom   Webster    male            TW3857@gmail.com     7-1-17   \n",
      "2     Edward     Bowen    male      Edward.Bowen@gmail.com     7-1-17   \n",
      "3     Marcus     Bauer    male      Marcus.Bauer@gmail.com     7-1-17   \n",
      "4    Roberta      Best  female          RB6305@hotmail.com     7-1-17   \n",
      "5     Joseph     Foley    male     JosephFoley81@gmail.com     7-1-17   \n",
      "6     Carrie   Francis  female          CF1896@hotmail.com     7-1-17   \n",
      "7     Sharon   William  female  Sharon.William@outlook.com     7-1-17   \n",
      "8     Teresa     Yates  female        TYates1988@gmail.com     7-1-17   \n",
      "9   Salvador  Cardenas    male     SCardenas1980@gmail.com     7-1-17   \n",
      "\n",
      "  fitness_test_date application_date purchase_date ab_test_group  \\\n",
      "0        2017-07-03             None          None             A   \n",
      "1        2017-07-02             None          None             A   \n",
      "2              None       2017-07-04    2017-07-04             B   \n",
      "3        2017-07-01       2017-07-03    2017-07-05             A   \n",
      "4        2017-07-02             None          None             A   \n",
      "5              None             None          None             B   \n",
      "6        2017-07-05             None          None             A   \n",
      "7              None             None          None             B   \n",
      "8        2017-07-02             None          None             A   \n",
      "9        2017-07-07       2017-07-06          None             A   \n",
      "\n",
      "   is_application  \n",
      "0  No Application  \n",
      "1  No Application  \n",
      "2     Application  \n",
      "3     Application  \n",
      "4  No Application  \n",
      "5  No Application  \n",
      "6  No Application  \n",
      "7  No Application  \n",
      "8  No Application  \n",
      "9     Application  \n"
     ]
    }
   ],
   "source": [
    "df[\"is_application\"] = df.application_date.apply(lambda x: \"Application\" if pd.notna(x) else \"No Application\")\n",
    "print(df.head(10))"
   ]
  },
  {
   "cell_type": "markdown",
   "metadata": {},
   "source": [
    "Now, using `groupby`, count how many people from Group A and Group B either do or don't pick up an application.  You'll want to group by `ab_test_group` and `is_application`.  Save this new DataFrame as `app_counts`"
   ]
  },
  {
   "cell_type": "code",
   "execution_count": 28,
   "metadata": {},
   "outputs": [],
   "source": [
    "app_counts = df.groupby([\"ab_test_group\", \"is_application\"]).first_name.count().reset_index().pivot(columns = \"is_application\", \n",
    "      index=\"ab_test_group\",\n",
    "      values = \"first_name\").reset_index()"
   ]
  },
  {
   "cell_type": "markdown",
   "metadata": {},
   "source": [
    "We're going to want to calculate the percent of people in each group who complete an application.  It's going to be much easier to do this if we pivot `app_counts` such that:\n",
    "- The `index` is `ab_test_group`\n",
    "- The `columns` are `is_application`\n",
    "Perform this pivot and save it to the variable `app_pivot`.  Remember to call `reset_index()` at the end of the pivot!"
   ]
  },
  {
   "cell_type": "code",
   "execution_count": 29,
   "metadata": {},
   "outputs": [
    {
     "name": "stdout",
     "output_type": "stream",
     "text": [
      "is_application ab_test_group  Application  No Application\n",
      "0                          A          250            2254\n",
      "1                          B          325            2175\n"
     ]
    }
   ],
   "source": [
    "print(app_counts)"
   ]
  },
  {
   "cell_type": "markdown",
   "metadata": {},
   "source": [
    "Define a new column called `Total`, which is the sum of `Application` and `No Application`."
   ]
  },
  {
   "cell_type": "code",
   "execution_count": 30,
   "metadata": {},
   "outputs": [],
   "source": [
    "app_counts[\"total\"] = app_counts[\"Application\"] + app_counts[\"No Application\"]"
   ]
  },
  {
   "cell_type": "markdown",
   "metadata": {},
   "source": [
    "Calculate another column called `Percent with Application`, which is equal to `Application` divided by `Total`."
   ]
  },
  {
   "cell_type": "code",
   "execution_count": 31,
   "metadata": {},
   "outputs": [
    {
     "name": "stdout",
     "output_type": "stream",
     "text": [
      "is_application ab_test_group  Application  No Application  total  percent\n",
      "0                          A          250            2254   2504  0.09984\n",
      "1                          B          325            2175   2500  0.13000\n"
     ]
    }
   ],
   "source": [
    "app_counts[\"percent\"] = app_counts[\"Application\"] / app_counts[\"total\"]\n",
    "print(app_counts)"
   ]
  },
  {
   "cell_type": "markdown",
   "metadata": {},
   "source": [
    "It looks like more people from Group B turned in an application.  Why might that be?\n",
    "\n",
    "We need to know if this difference is statistically significant.\n",
    "\n",
    "Choose a hypothesis tests, import it from `scipy` and perform it.  Be sure to note the p-value.\n",
    "Is this result significant?"
   ]
  },
  {
   "cell_type": "code",
   "execution_count": 32,
   "metadata": {},
   "outputs": [
    {
     "name": "stdout",
     "output_type": "stream",
     "text": [
      "[[250, 2254], [325, 2175]]\n",
      "0.0009647827600722304\n"
     ]
    }
   ],
   "source": [
    "import scipy.stats as s\n",
    "contingency = [[app_counts.iat[0,1],app_counts.iat[0,2]],\n",
    "               [app_counts.iat[1,1],app_counts.iat[1,2]]]\n",
    "_, pvalue, _, _ = s.chi2_contingency(contingency)\n",
    "print(contingency)\n",
    "print(pvalue)\n",
    "result = \"Two groups application percentages are significantly different\""
   ]
  },
  {
   "cell_type": "markdown",
   "metadata": {},
   "source": [
    "## Step 4: Who purchases a membership?"
   ]
  },
  {
   "cell_type": "markdown",
   "metadata": {},
   "source": [
    "Of those who picked up an application, how many purchased a membership?\n",
    "\n",
    "Let's begin by adding a column to `df` called `is_member` which is `Member` if `purchase_date` is not `None`, and `Not Member` otherwise."
   ]
  },
  {
   "cell_type": "code",
   "execution_count": 33,
   "metadata": {},
   "outputs": [],
   "source": [
    "df[\"is_member\"] = df.purchase_date.apply(lambda x: \"Member\" if pd.notna(x) else \"Not Member\")"
   ]
  },
  {
   "cell_type": "markdown",
   "metadata": {},
   "source": [
    "Now, let's create a DataFrame called `just_apps` the contains only people who picked up an application."
   ]
  },
  {
   "cell_type": "code",
   "execution_count": 34,
   "metadata": {},
   "outputs": [
    {
     "name": "stdout",
     "output_type": "stream",
     "text": [
      "575\n"
     ]
    }
   ],
   "source": [
    "just_apps = df[df.is_application == \"Application\"]\n",
    "print(len(just_apps))"
   ]
  },
  {
   "cell_type": "markdown",
   "metadata": {},
   "source": [
    "Great! Now, let's do a `groupby` to find out how many people in `just_apps` are and aren't members from each group.  Follow the same process that we did in Step 4, including pivoting the data.  You should end up with a DataFrame that looks like this:\n",
    "\n",
    "|is_member|ab_test_group|Member|Not Member|Total|Percent Purchase|\n",
    "|-|-|-|-|-|-|\n",
    "|0|A|?|?|?|?|\n",
    "|1|B|?|?|?|?|\n",
    "\n",
    "Save your final DataFrame as `member_pivot`."
   ]
  },
  {
   "cell_type": "code",
   "execution_count": 35,
   "metadata": {},
   "outputs": [
    {
     "name": "stdout",
     "output_type": "stream",
     "text": [
      "is_member ab_test_group  Member  Not Member  percent_member\n",
      "0                     A     200          50        0.800000\n",
      "1                     B     250          75        0.769231\n"
     ]
    }
   ],
   "source": [
    "member_pivot = just_apps.groupby([\"ab_test_group\",\"is_member\"]).first_name.count().reset_index().pivot(columns=\"is_member\", \n",
    "                                                                                               index=\"ab_test_group\",\n",
    "                                                                                               values=\"first_name\").reset_index()\n",
    "member_pivot[\"percent_member\"] = member_pivot[\"Member\"] / (member_pivot[\"Member\"]+member_pivot[\"Not Member\"])\n",
    "print(member_pivot)"
   ]
  },
  {
   "cell_type": "markdown",
   "metadata": {},
   "source": [
    "It looks like people who took the fitness test were more likely to purchase a membership **if** they picked up an application.  Why might that be?\n",
    "\n",
    "Just like before, we need to know if this difference is statistically significant.  Choose a hypothesis tests, import it from `scipy` and perform it.  Be sure to note the p-value.\n",
    "Is this result significant?"
   ]
  },
  {
   "cell_type": "code",
   "execution_count": 36,
   "metadata": {},
   "outputs": [
    {
     "name": "stdout",
     "output_type": "stream",
     "text": [
      "0.43258646051083327\n",
      "for the people who picked an application form, purchasing the membershipis data distrubuiton is not significantly different from each other\n"
     ]
    }
   ],
   "source": [
    "c = [[200,50],[250,75]]\n",
    "_,pvalue2,_,_ = s.chi2_contingency(c)\n",
    "print(pvalue2)\n",
    "result2 = \"for the people who picked an application form, purchasing the membershipis data distrubuiton is not significantly different from each other\"\n",
    "print(result2)"
   ]
  },
  {
   "cell_type": "markdown",
   "metadata": {},
   "source": [
    "Previously, we looked at what percent of people **who picked up applications** purchased memberships.  What we really care about is what percentage of **all visitors** purchased memberships.  Return to `df` and do a `groupby` to find out how many people in `df` are and aren't members from each group.  Follow the same process that we did in Step 4, including pivoting the data.  You should end up with a DataFrame that looks like this:\n",
    "\n",
    "|is_member|ab_test_group|Member|Not Member|Total|Percent Purchase|\n",
    "|-|-|-|-|-|-|\n",
    "|0|A|?|?|?|?|\n",
    "|1|B|?|?|?|?|\n",
    "\n",
    "Save your final DataFrame as `final_member_pivot`."
   ]
  },
  {
   "cell_type": "code",
   "execution_count": 37,
   "metadata": {},
   "outputs": [
    {
     "name": "stdout",
     "output_type": "stream",
     "text": [
      "is_member ab_test_group  Member  Not Member  percent_member\n",
      "0                     A     200        2304        0.079872\n",
      "1                     B     250        2250        0.100000\n"
     ]
    }
   ],
   "source": [
    "final_member_pivot = df.groupby([\"ab_test_group\",\"is_member\"]).first_name.count().reset_index().pivot(columns=\"is_member\", \n",
    "                                                                                               index=\"ab_test_group\",\n",
    "                                                                                               values=\"first_name\").reset_index()\n",
    "final_member_pivot[\"percent_member\"] = final_member_pivot[\"Member\"] / (final_member_pivot[\"Member\"]+final_member_pivot[\"Not Member\"])\n",
    "print(final_member_pivot)"
   ]
  },
  {
   "cell_type": "markdown",
   "metadata": {},
   "source": [
    "Previously, when we only considered people who had **already picked up an application**, we saw that there was no significant difference in membership between Group A and Group B.\n",
    "\n",
    "Now, when we consider all people who **visit MuscleHub**, we see that there might be a significant different in memberships between Group A and Group B.  Perform a significance test and check."
   ]
  },
  {
   "cell_type": "code",
   "execution_count": 38,
   "metadata": {},
   "outputs": [
    {
     "name": "stdout",
     "output_type": "stream",
     "text": [
      "0.014724114645783203\n",
      "for the people who picked an application form, purchasing the membershipis data distrubuiton is not significantly different from each other\n"
     ]
    }
   ],
   "source": [
    "c2 = [[200,2304],[250,2250]]\n",
    "_,pvalue3,_,_ = s.chi2_contingency(c2)\n",
    "print(pvalue3)\n",
    "result3 = \"for the people who visited muscle hub, purchasing the membershipis are significantly different from each otherlookign at people coming from group A or B\"\n",
    "print(result2)"
   ]
  },
  {
   "cell_type": "markdown",
   "metadata": {},
   "source": [
    "## Step 5: Summarize the acquisition funel with a chart"
   ]
  },
  {
   "cell_type": "markdown",
   "metadata": {},
   "source": [
    "We'd like to make a bar chart for Janet that shows the difference between Group A (people who were given the fitness test) and Group B (people who were not given the fitness test) at each state of the process:\n",
    "- Percent of visitors who apply\n",
    "- Percent of applicants who purchase a membership\n",
    "- Percent of visitors who purchase a membership\n",
    "\n",
    "Create one plot for **each** of the three sets of percentages that you calculated in `app_pivot`, `member_pivot` and `final_member_pivot`.  Each plot should:\n",
    "- Label the two bars as `Fitness Test` and `No Fitness Test`\n",
    "- Make sure that the y-axis ticks are expressed as percents (i.e., `5%`)\n",
    "- Have a title"
   ]
  },
  {
   "cell_type": "code",
   "execution_count": 50,
   "metadata": {},
   "outputs": [
    {
     "data": {
      "image/png": "[encoded data removed]",
      "text/plain": [
       "<Figure size 720x576 with 1 Axes>"
      ]
     },
     "metadata": {
      "needs_background": "light"
     },
     "output_type": "display_data"
    }
   ],
   "source": [
    "#funnel analysis from visitors to application\n",
    "xvalues = [1,2]\n",
    "yvalues = [0.09984, 0.13000]\n",
    "label = [\"Fitness Test\", \"No Fitness Test\"]\n",
    "plt.figure(figsize = (10,8))\n",
    "plt.bar(xvalues, yvalues, color = \"green\")\n",
    "ax = plt.subplot()\n",
    "ay = plt.subplot()\n",
    "ay.set_yticks(yvalues)\n",
    "ay.set_yticklabels([\"9%\", \"13%\"])\n",
    "ax.set_xticks(xvalues)\n",
    "ax.set_xticklabels(label)\n",
    "plt.xlabel(\"Test Groups\")\n",
    "plt.ylabel(\"Percent of users who proceeded to application\")\n",
    "plt.title(\"From all MuscleHub Visitors, Who picks the application?\")\n",
    "plt.savefig(\"Percentage of Application pickups.png\")\n",
    "plt.show()"
   ]
  },
  {
   "cell_type": "code",
   "execution_count": 47,
   "metadata": {},
   "outputs": [
    {
     "data": {
      "image/png": "[encoded data removed]",
      "text/plain": [
       "<Figure size 720x576 with 1 Axes>"
      ]
     },
     "metadata": {
      "needs_background": "light"
     },
     "output_type": "display_data"
    }
   ],
   "source": [
    "#funnel analysis from application pickers to membership purchasers\n",
    "import seaborn as sns\n",
    "plt.figure(figsize = (10,8))\n",
    "ax1 = plt.subplot()\n",
    "sns.barplot(data=member_pivot, x=\"ab_test_group\", y=\"percent_member\").set(\n",
    "    xlabel='Test Groups', \n",
    "    ylabel='Percent of membership purchasers who also picked application'\n",
    ")\n",
    "plt.title(\"From all MuscleHub Application Pickers, Who purchases the membership?\")\n",
    "plt.legend([\"A as Fitness Test\", \"B as No Fitness Test\"])\n",
    "sns.set_palette(\"husl\",3)\n",
    "sns.color_palette(\"husl\")\n",
    "plt.savefig(\"Percentage of membership purchase from application pickers.png\")\n",
    "plt.show()\n"
   ]
  },
  {
   "cell_type": "code",
   "execution_count": 51,
   "metadata": {},
   "outputs": [
    {
     "data": {
      "image/png": "[encoded data removed]",
      "text/plain": [
       "<Figure size 720x576 with 1 Axes>"
      ]
     },
     "metadata": {
      "needs_background": "light"
     },
     "output_type": "display_data"
    }
   ],
   "source": [
    "#funnel analysis from visitors to membership purchasers\n",
    "plt.figure(figsize = (10,8))\n",
    "sns.barplot(data=final_member_pivot, x=\"ab_test_group\", y=\"percent_member\").set(\n",
    "    xlabel='Test Groups', \n",
    "    ylabel='Percent of membership purchasers who also picked application'\n",
    ")\n",
    "plt.title(\"From all MuscleHub visitors, Who purchases the membership?\")\n",
    "plt.legend([\"A as Fitness Test\", \"B as No Fitness Test\"])\n",
    "sns.set_palette(\"husl\",3)\n",
    "sns.color_palette(\"husl\")\n",
    "plt.savefig(\"Percentage of membership purchase from visitors.png\")\n",
    "plt.show()"
   ]
  },
  {
   "cell_type": "code",
   "execution_count": null,
   "metadata": {},
   "outputs": [],
   "source": []
  },
  {
   "cell_type": "code",
   "execution_count": null,
   "metadata": {},
   "outputs": [],
   "source": []
  }
 ],
 "metadata": {
  "kernelspec": {
   "display_name": "Python 2",
   "language": "python",
   "name": "python2"
  },
  "language_info": {
   "codemirror_mode": {
    "name": "ipython",
    "version": 2
   },
   "file_extension": ".py",
   "mimetype": "text/x-python",
   "name": "python",
   "nbconvert_exporter": "python",
   "pygments_lexer": "ipython2",
   "version": "2.7.16"
  }
 },
 "nbformat": 4,
 "nbformat_minor": 2
}
