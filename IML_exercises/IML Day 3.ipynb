{
 "cells": [
  {
   "cell_type": "code",
   "execution_count": 1,
   "metadata": {},
   "outputs": [],
   "source": [
    "from sklearn.datasets import load_boston\n",
    "import statsmodels.api as sm\n",
    "import numpy as np\n",
    "import matplotlib.pyplot as plt\n",
    "from sklearn.datasets import load_boston\n",
    "from sklearn.linear_model import LinearRegression, Ridge, Lasso\n",
    "from sklearn.model_selection import train_test_split\n",
    "import pandas as pd"
   ]
  },
  {
   "cell_type": "code",
   "execution_count": 2,
   "metadata": {},
   "outputs": [],
   "source": [
    "boston = load_boston()\n",
    "X1 = boston.data\n",
    "y = boston.target"
   ]
  },
  {
   "cell_type": "code",
   "execution_count": 3,
   "metadata": {},
   "outputs": [],
   "source": [
    "X1 = sm.add_constant(X1)"
   ]
  },
  {
   "cell_type": "code",
   "execution_count": 4,
   "metadata": {},
   "outputs": [],
   "source": [
    "features = list(boston.feature_names)"
   ]
  },
  {
   "cell_type": "code",
   "execution_count": 5,
   "metadata": {},
   "outputs": [],
   "source": [
    "features.insert(0, \"INTRCPT\")"
   ]
  },
  {
   "cell_type": "code",
   "execution_count": 6,
   "metadata": {},
   "outputs": [
    {
     "data": {
      "text/plain": [
       "['INTRCPT',\n",
       " 'CRIM',\n",
       " 'ZN',\n",
       " 'INDUS',\n",
       " 'CHAS',\n",
       " 'NOX',\n",
       " 'RM',\n",
       " 'AGE',\n",
       " 'DIS',\n",
       " 'RAD',\n",
       " 'TAX',\n",
       " 'PTRATIO',\n",
       " 'B',\n",
       " 'LSTAT']"
      ]
     },
     "execution_count": 6,
     "metadata": {},
     "output_type": "execute_result"
    }
   ],
   "source": [
    "features"
   ]
  },
  {
   "cell_type": "markdown",
   "metadata": {},
   "source": [
    "**Backward Feature Elimination**"
   ]
  },
  {
   "cell_type": "code",
   "execution_count": 7,
   "metadata": {},
   "outputs": [
    {
     "name": "stdout",
     "output_type": "stream",
     "text": [
      "Features to be excluded: AGE p values are: 0.958229309205725\n",
      "Features to be excluded: INDUS p values are: 0.7379887092915007\n",
      "Features to be excluded: CHAS p values are: 0.001551469263911685\n",
      "Features to be excluded: ZN p values are: 0.0008640500577762318\n",
      "Features to be excluded: TAX p values are: 0.0019820858677808352\n",
      "Features to be excluded: CRIM p values are: 0.0022519803872580275\n",
      "Features to be excluded: RAD p values are: 0.015219695812946302\n",
      "Features to be excluded: B p values are: 0.00038060429566672053\n",
      "Features to be excluded: NOX p values are: 5.488148101823034e-08\n",
      "Features to be excluded: DIS p values are: 1.6684670685099012e-05\n",
      "Features to be excluded: INTRCPT p values are: 2.7258082620430965e-06\n",
      "Features to be excluded: PTRATIO p values are: 1.0810607285552808e-09\n",
      "Features to be excluded: LSTAT p values are: 4.811851673074096e-73\n",
      "Features to be excluded: RM p values are: 3.743758187855038e-256\n"
     ]
    }
   ],
   "source": [
    "# iterate from last to first feature and \n",
    "# eliminate features according to p values\n",
    "for i in range(X1.shape[1], 0, -1):\n",
    "    linear_model = sm.regression.linear_model.OLS(y, X1)\n",
    "    fit = linear_model.fit()\n",
    "    p_values = fit.pvalues\n",
    "    # store the index of the max p_value\n",
    "    max_place = np.where(p_values == max(p_values))[0][0]\n",
    "    print(\"Features to be excluded:\", features[max_place], \n",
    "          \"p values are:\", p_values[max_place])\n",
    "    X1 = np.delete(X1, max_place, axis=-1)\n",
    "    features.remove(features[max_place])"
   ]
  },
  {
   "cell_type": "markdown",
   "metadata": {},
   "source": [
    "**Ridge Regularization**"
   ]
  },
  {
   "cell_type": "code",
   "execution_count": 8,
   "metadata": {},
   "outputs": [],
   "source": [
    "X2 = boston.data\n",
    "X2_train, X2_test, y_train, y_test = train_test_split(X2, y,\n",
    "                                                     test_size = 0.3,\n",
    "                                                     random_state = 3)"
   ]
  },
  {
   "cell_type": "code",
   "execution_count": 9,
   "metadata": {},
   "outputs": [
    {
     "name": "stdout",
     "output_type": "stream",
     "text": [
      "Training r2 score 0.7419034960343789\n",
      "Test r2 score 0.7147895265576858\n"
     ]
    }
   ],
   "source": [
    "linear_regression = LinearRegression()\n",
    "linear_regression.fit(X2_train, y_train)\n",
    "linear_regression_train_r2 = linear_regression.score(X2_train, y_train)\n",
    "linear_regression_test_r2 = linear_regression.score(X2_test, y_test)\n",
    "print(\"Training r2 score\", linear_regression_train_r2)\n",
    "print(\"Test r2 score\", linear_regression_test_r2)"
   ]
  },
  {
   "cell_type": "code",
   "execution_count": 10,
   "metadata": {},
   "outputs": [
    {
     "name": "stdout",
     "output_type": "stream",
     "text": [
      "Training r2 score 0.7419030253527293\n",
      "Test r2 score 0.7146125373123906\n"
     ]
    }
   ],
   "source": [
    "ridge_model = Ridge(alpha = 0.01)\n",
    "ridge_model.fit(X2_train, y_train)\n",
    "ridge_model_train_r2 = ridge_model.score(X2_train, y_train)\n",
    "ridge_model_test_r2 = ridge_model.score(X2_test, y_test)\n",
    "print(\"Training r2 score\", ridge_model_train_r2)\n",
    "print(\"Test r2 score\", ridge_model_test_r2)"
   ]
  },
  {
   "cell_type": "code",
   "execution_count": 11,
   "metadata": {},
   "outputs": [
    {
     "name": "stdout",
     "output_type": "stream",
     "text": [
      "Training r2 score 0.7172809669938278\n",
      "Test r2 score 0.6805765856921936\n"
     ]
    }
   ],
   "source": [
    "ridge_model2 = Ridge(alpha = 100)\n",
    "ridge_model2.fit(X2_train, y_train)\n",
    "ridge_model2_train_r2 = ridge_model2.score(X2_train, y_train)\n",
    "ridge_model2_test_r2 = ridge_model2.score(X2_test, y_test)\n",
    "print(\"Training r2 score\", ridge_model2_train_r2)\n",
    "print(\"Test r2 score\", ridge_model2_test_r2)"
   ]
  },
  {
   "cell_type": "code",
   "execution_count": 12,
   "metadata": {},
   "outputs": [
    {
     "name": "stdout",
     "output_type": "stream",
     "text": [
      "Fitting 5 folds for each of 18 candidates, totalling 90 fits\n"
     ]
    },
    {
     "name": "stderr",
     "output_type": "stream",
     "text": [
      "[Parallel(n_jobs=-1)]: Using backend LokyBackend with 8 concurrent workers.\n",
      "[Parallel(n_jobs=-1)]: Done  34 tasks      | elapsed:    1.6s\n",
      "[Parallel(n_jobs=-1)]: Done  90 out of  90 | elapsed:    1.7s finished\n",
      "/Users/cereniyim/opt/anaconda3/lib/python3.7/site-packages/sklearn/model_selection/_search.py:814: DeprecationWarning: The default of the `iid` parameter will change from True to False in version 0.22 and will be removed in 0.24. This will change numeric results when test-set sizes are unequal.\n",
      "  DeprecationWarning)\n"
     ]
    },
    {
     "data": {
      "text/plain": [
       "GridSearchCV(cv=5, error_score='raise-deprecating',\n",
       "             estimator=Ridge(alpha=1.0, copy_X=True, fit_intercept=True,\n",
       "                             max_iter=None, normalize=False, random_state=None,\n",
       "                             solver='auto', tol=0.001),\n",
       "             iid='warn', n_jobs=-1,\n",
       "             param_grid={'alpha': [0.001, 0.002, 0.1, 0.2, 0.5, 0.75, 1, 2, 3,\n",
       "                                   4, 5, 6, 7, 8, 9, 10, 50, 100]},\n",
       "             pre_dispatch='2*n_jobs', refit=True, return_train_score=True,\n",
       "             scoring='r2', verbose=1)"
      ]
     },
     "execution_count": 12,
     "metadata": {},
     "output_type": "execute_result"
    }
   ],
   "source": [
    "from sklearn.model_selection import GridSearchCV\n",
    "# Create a range of trees to evaluate\n",
    "alphas_grid = {'alpha': [0.001, 0.002, 0.1, 0.2, 0.5, 0.75, 1, 2, 3, 4, 5, 6, 7, 8, 9, 10, 50, 100]}\n",
    "\n",
    "# define all parameters except n_estimators\n",
    "ridge_search_model = Ridge()\n",
    "\n",
    "# Grid Search Object using the trees range, the model and 5-fold cross validation\n",
    "grid_search = GridSearchCV(estimator = ridge_search_model, param_grid=alphas_grid, \n",
    "                           cv = 5, scoring = 'r2', verbose = 1,\n",
    "                           n_jobs = -1, return_train_score = True)\n",
    "\n",
    "# fit the dataset to grid search object\n",
    "grid_search.fit(X2, y)"
   ]
  },
  {
   "cell_type": "code",
   "execution_count": 13,
   "metadata": {},
   "outputs": [
    {
     "data": {
      "image/png": "[encoded data removed]",
      "text/plain": [
       "<Figure size 720x720 with 1 Axes>"
      ]
     },
     "metadata": {
      "needs_background": "light"
     },
     "output_type": "display_data"
    }
   ],
   "source": [
    "# Get the results into a dataframe\n",
    "ridge_results = pd.DataFrame(grid_search.cv_results_)\n",
    "\n",
    "# Plot the training and testing error vs number of trees\n",
    "plt.figure(figsize=(10,10))\n",
    "plt.plot(ridge_results['param_alpha'], ridge_results['mean_test_score'], label = 'Testing R2')\n",
    "plt.plot(ridge_results['param_alpha'], ridge_results['mean_train_score'], label = 'Training R2')\n",
    "\n",
    "# set title, labels and legend\n",
    "plt.xlabel('Alphas'); plt.ylabel('R2'); plt.legend();\n",
    "plt.title('Performance vs Alpha', size=14);"
   ]
  },
  {
   "cell_type": "code",
   "execution_count": 15,
   "metadata": {},
   "outputs": [
    {
     "data": {
      "text/html": [
       "<div>\n",
       "<style scoped>\n",
       "    .dataframe tbody tr th:only-of-type {\n",
       "        vertical-align: middle;\n",
       "    }\n",
       "\n",
       "    .dataframe tbody tr th {\n",
       "        vertical-align: top;\n",
       "    }\n",
       "\n",
       "    .dataframe thead th {\n",
       "        text-align: right;\n",
       "    }\n",
       "</style>\n",
       "<table border=\"1\" class=\"dataframe\">\n",
       "  <thead>\n",
       "    <tr style=\"text-align: right;\">\n",
       "      <th></th>\n",
       "      <th>param_alpha</th>\n",
       "      <th>params</th>\n",
       "      <th>mean_test_score</th>\n",
       "    </tr>\n",
       "  </thead>\n",
       "  <tbody>\n",
       "    <tr>\n",
       "      <td>17</td>\n",
       "      <td>100</td>\n",
       "      <td>{'alpha': 100}</td>\n",
       "      <td>0.493443</td>\n",
       "    </tr>\n",
       "    <tr>\n",
       "      <td>16</td>\n",
       "      <td>50</td>\n",
       "      <td>{'alpha': 50}</td>\n",
       "      <td>0.475231</td>\n",
       "    </tr>\n",
       "    <tr>\n",
       "      <td>15</td>\n",
       "      <td>10</td>\n",
       "      <td>{'alpha': 10}</td>\n",
       "      <td>0.426071</td>\n",
       "    </tr>\n",
       "    <tr>\n",
       "      <td>14</td>\n",
       "      <td>9</td>\n",
       "      <td>{'alpha': 9}</td>\n",
       "      <td>0.423777</td>\n",
       "    </tr>\n",
       "    <tr>\n",
       "      <td>13</td>\n",
       "      <td>8</td>\n",
       "      <td>{'alpha': 8}</td>\n",
       "      <td>0.421358</td>\n",
       "    </tr>\n",
       "    <tr>\n",
       "      <td>12</td>\n",
       "      <td>7</td>\n",
       "      <td>{'alpha': 7}</td>\n",
       "      <td>0.418787</td>\n",
       "    </tr>\n",
       "    <tr>\n",
       "      <td>11</td>\n",
       "      <td>6</td>\n",
       "      <td>{'alpha': 6}</td>\n",
       "      <td>0.416022</td>\n",
       "    </tr>\n",
       "    <tr>\n",
       "      <td>10</td>\n",
       "      <td>5</td>\n",
       "      <td>{'alpha': 5}</td>\n",
       "      <td>0.412990</td>\n",
       "    </tr>\n",
       "    <tr>\n",
       "      <td>9</td>\n",
       "      <td>4</td>\n",
       "      <td>{'alpha': 4}</td>\n",
       "      <td>0.409555</td>\n",
       "    </tr>\n",
       "    <tr>\n",
       "      <td>8</td>\n",
       "      <td>3</td>\n",
       "      <td>{'alpha': 3}</td>\n",
       "      <td>0.405416</td>\n",
       "    </tr>\n",
       "    <tr>\n",
       "      <td>7</td>\n",
       "      <td>2</td>\n",
       "      <td>{'alpha': 2}</td>\n",
       "      <td>0.399783</td>\n",
       "    </tr>\n",
       "    <tr>\n",
       "      <td>6</td>\n",
       "      <td>1</td>\n",
       "      <td>{'alpha': 1}</td>\n",
       "      <td>0.389754</td>\n",
       "    </tr>\n",
       "    <tr>\n",
       "      <td>5</td>\n",
       "      <td>0.75</td>\n",
       "      <td>{'alpha': 0.75}</td>\n",
       "      <td>0.385386</td>\n",
       "    </tr>\n",
       "    <tr>\n",
       "      <td>4</td>\n",
       "      <td>0.5</td>\n",
       "      <td>{'alpha': 0.5}</td>\n",
       "      <td>0.379269</td>\n",
       "    </tr>\n",
       "    <tr>\n",
       "      <td>3</td>\n",
       "      <td>0.2</td>\n",
       "      <td>{'alpha': 0.2}</td>\n",
       "      <td>0.367450</td>\n",
       "    </tr>\n",
       "    <tr>\n",
       "      <td>2</td>\n",
       "      <td>0.1</td>\n",
       "      <td>{'alpha': 0.1}</td>\n",
       "      <td>0.361511</td>\n",
       "    </tr>\n",
       "    <tr>\n",
       "      <td>1</td>\n",
       "      <td>0.002</td>\n",
       "      <td>{'alpha': 0.002}</td>\n",
       "      <td>0.354016</td>\n",
       "    </tr>\n",
       "    <tr>\n",
       "      <td>0</td>\n",
       "      <td>0.001</td>\n",
       "      <td>{'alpha': 0.001}</td>\n",
       "      <td>0.353929</td>\n",
       "    </tr>\n",
       "  </tbody>\n",
       "</table>\n",
       "</div>"
      ],
      "text/plain": [
       "   param_alpha            params  mean_test_score\n",
       "17         100    {'alpha': 100}         0.493443\n",
       "16          50     {'alpha': 50}         0.475231\n",
       "15          10     {'alpha': 10}         0.426071\n",
       "14           9      {'alpha': 9}         0.423777\n",
       "13           8      {'alpha': 8}         0.421358\n",
       "12           7      {'alpha': 7}         0.418787\n",
       "11           6      {'alpha': 6}         0.416022\n",
       "10           5      {'alpha': 5}         0.412990\n",
       "9            4      {'alpha': 4}         0.409555\n",
       "8            3      {'alpha': 3}         0.405416\n",
       "7            2      {'alpha': 2}         0.399783\n",
       "6            1      {'alpha': 1}         0.389754\n",
       "5         0.75   {'alpha': 0.75}         0.385386\n",
       "4          0.5    {'alpha': 0.5}         0.379269\n",
       "3          0.2    {'alpha': 0.2}         0.367450\n",
       "2          0.1    {'alpha': 0.1}         0.361511\n",
       "1        0.002  {'alpha': 0.002}         0.354016\n",
       "0        0.001  {'alpha': 0.001}         0.353929"
      ]
     },
     "execution_count": 15,
     "metadata": {},
     "output_type": "execute_result"
    }
   ],
   "source": [
    "ridge_results[[\"param_alpha\", \"params\", \"mean_test_score\"]].sort_values(by=\"mean_test_score\", ascending=False)"
   ]
  },
  {
   "cell_type": "code",
   "execution_count": 16,
   "metadata": {},
   "outputs": [
    {
     "data": {
      "image/png": "[encoded data removed]",
      "text/plain": [
       "<Figure size 576x432 with 1 Axes>"
      ]
     },
     "metadata": {
      "needs_background": "light"
     },
     "output_type": "display_data"
    }
   ],
   "source": [
    "plt.figure(figsize=(8,6))\n",
    "\n",
    "plt.plot(ridge_model.coef_,\n",
    "        alpha = 0.7,\n",
    "        linestyle=\"none\", \n",
    "        marker = \"*\",\n",
    "        markersize = 15,\n",
    "        color = \"red\", \n",
    "        label = r\"Ridge: $\\lambda = 0.01$\")\n",
    "\n",
    "plt.plot(ridge_model2.coef_, \n",
    "        alpha = 0.5, \n",
    "        linestyle=\"none\",\n",
    "        marker=\"d\",\n",
    "        markersize=15,\n",
    "        color=\"blue\",\n",
    "        label = r\"Ridge: $\\lambda = 100$\")\n",
    "\n",
    "plt.plot(linear_regression.coef_,\n",
    "        alpha=0.4,\n",
    "        linestyle=\"none\",\n",
    "        marker = \"o\",\n",
    "        markersize= 15,\n",
    "        color = \"green\",\n",
    "        label = \"Linear Model\")\n",
    "\n",
    "plt.xlabel(\"Betas, ordered B0, B1, B2\", fontsize = 16)\n",
    "plt.ylabel(\"Values of Beta\", fontsize=16)\n",
    "plt.legend(fontsize = 13, loc=4)\n",
    "plt.title(\"Values of Beta in different Ridge Models and Linear Model\", fontsize=16)\n",
    "plt.show()"
   ]
  },
  {
   "cell_type": "markdown",
   "metadata": {},
   "source": [
    "**Lasso Regularization**"
   ]
  },
  {
   "cell_type": "code",
   "execution_count": 17,
   "metadata": {},
   "outputs": [
    {
     "name": "stdout",
     "output_type": "stream",
     "text": [
      "Lasso training R2 value 0.7414845253242521\n",
      "Lasso test R2 value 0.7096270988778383\n"
     ]
    }
   ],
   "source": [
    "lasso = Lasso(alpha = 0.01)\n",
    "lasso.fit(X2_train, y_train)\n",
    "lasso_train_r2 = lasso.score(X2_train, y_train)\n",
    "lasso_test_r2 = lasso.score(X2_test, y_test)\n",
    "print(\"Lasso training R2 value\", lasso_train_r2)\n",
    "print(\"Lasso test R2 value\", lasso_test_r2)"
   ]
  },
  {
   "cell_type": "code",
   "execution_count": 18,
   "metadata": {},
   "outputs": [
    {
     "name": "stdout",
     "output_type": "stream",
     "text": [
      "Lasso training R2 value 0.6832133784853487\n",
      "Lasso test R2 value 0.6364462662362061\n"
     ]
    }
   ],
   "source": [
    "lasso2 = Lasso(alpha = 1)\n",
    "lasso2.fit(X2_train, y_train)\n",
    "lasso2_train_r2 = lasso2.score(X2_train, y_train)\n",
    "lasso2_test_r2 = lasso2.score(X2_test, y_test)\n",
    "print(\"Lasso training R2 value\", lasso2_train_r2)\n",
    "print(\"Lasso test R2 value\", lasso2_test_r2)"
   ]
  },
  {
   "cell_type": "code",
   "execution_count": 19,
   "metadata": {},
   "outputs": [
    {
     "name": "stdout",
     "output_type": "stream",
     "text": [
      "Lasso training R2 value 0.22175771924133436\n",
      "Lasso test R2 value 0.24781706709707008\n"
     ]
    }
   ],
   "source": [
    "lasso3 = Lasso(alpha = 100)\n",
    "lasso3.fit(X2_train, y_train)\n",
    "lasso3_train_r2 = lasso3.score(X2_train, y_train)\n",
    "lasso3_test_r2 = lasso3.score(X2_test, y_test)\n",
    "print(\"Lasso training R2 value\", lasso3_train_r2)\n",
    "print(\"Lasso test R2 value\", lasso3_test_r2)"
   ]
  },
  {
   "cell_type": "code",
   "execution_count": 20,
   "metadata": {},
   "outputs": [
    {
     "data": {
      "image/png": "[encoded data removed]",
      "text/plain": [
       "<Figure size 576x432 with 1 Axes>"
      ]
     },
     "metadata": {
      "needs_background": "light"
     },
     "output_type": "display_data"
    }
   ],
   "source": [
    "#plots\n",
    "plt.figure(figsize=(8,6))\n",
    "\n",
    "plt.plot(lasso.coef_,\n",
    "        alpha=0.7,\n",
    "        linestyle=\"none\",\n",
    "        marker=\"*\",\n",
    "        markersize = 15,\n",
    "        color =\"red\",\n",
    "        label = r'Lasso: $\\lambda = 0.01$')\n",
    "\n",
    "plt.plot(lasso2.coef_,\n",
    "        alpha=0.7,\n",
    "        linestyle=\"none\",\n",
    "        marker=\"d\",\n",
    "        markersize = 15,\n",
    "        color =\"blue\",\n",
    "        label = r'Lasso: $\\lambda = 1$')\n",
    "\n",
    "plt.plot(lasso3.coef_,\n",
    "        alpha=0.7,\n",
    "        linestyle=\"none\",\n",
    "        marker=\"s\",\n",
    "        markersize = 15,\n",
    "        color =\"black\",\n",
    "        label = r'Lasso: $\\lambda = 100$')\n",
    "\n",
    "plt.plot(linear_regression.coef_,\n",
    "        alpha=0.7,\n",
    "        linestyle=\"none\",\n",
    "        marker=\"v\",\n",
    "        markersize = 15,\n",
    "        color =\"green\",\n",
    "        label = r'Linear Model$')\n",
    "\n",
    "plt.xlabel(\"Betas, ordered B0, B1, B2\", fontsize = 16)\n",
    "plt.ylabel(\"Values of Beta\", fontsize=16)\n",
    "plt.legend(fontsize = 13, loc=4)\n",
    "plt.title(\"Values of Beta in different Lasso Models and Linear Model\", fontsize=16)\n",
    "plt.show()"
   ]
  },
  {
   "cell_type": "code",
   "execution_count": 21,
   "metadata": {},
   "outputs": [
    {
     "name": "stdout",
     "output_type": "stream",
     "text": [
      "Fitting 5 folds for each of 18 candidates, totalling 90 fits\n"
     ]
    },
    {
     "name": "stderr",
     "output_type": "stream",
     "text": [
      "[Parallel(n_jobs=-1)]: Using backend LokyBackend with 8 concurrent workers.\n",
      "[Parallel(n_jobs=-1)]: Done  37 tasks      | elapsed:    1.6s\n",
      "[Parallel(n_jobs=-1)]: Done  90 out of  90 | elapsed:    1.6s finished\n",
      "/Users/cereniyim/opt/anaconda3/lib/python3.7/site-packages/sklearn/model_selection/_search.py:814: DeprecationWarning: The default of the `iid` parameter will change from True to False in version 0.22 and will be removed in 0.24. This will change numeric results when test-set sizes are unequal.\n",
      "  DeprecationWarning)\n"
     ]
    },
    {
     "data": {
      "image/png": "[encoded data removed]",
      "text/plain": [
       "<Figure size 720x720 with 1 Axes>"
      ]
     },
     "metadata": {
      "needs_background": "light"
     },
     "output_type": "display_data"
    }
   ],
   "source": [
    "# Create a range of trees to evaluate\n",
    "alphas_grid = {'alpha': [0.001, 0.002, 0.1, 0.2, 0.5, 0.75, 1, 2, 3, 4, 5, 6, 7, 8, 9, 10, 50, 100]}\n",
    "\n",
    "# define all parameters except n_estimators\n",
    "lasso_search_model = Lasso()\n",
    "\n",
    "# Grid Search Object using the trees range, the model and 5-fold cross validation\n",
    "grid_search = GridSearchCV(estimator = lasso_search_model, param_grid=alphas_grid, \n",
    "                           cv = 5, scoring = 'r2', verbose = 1,\n",
    "                           n_jobs = -1, return_train_score = True)\n",
    "\n",
    "# fit the dataset to grid search object\n",
    "grid_search.fit(X2, y)\n",
    "\n",
    "# Get the results into a dataframe\n",
    "lasso_results = pd.DataFrame(grid_search.cv_results_)\n",
    "\n",
    "# Plot the training and testing error vs number of trees\n",
    "plt.figure(figsize=(10,10))\n",
    "plt.plot(lasso_results['param_alpha'], lasso_results['mean_test_score'], label = 'Testing R2')\n",
    "plt.plot(lasso_results['param_alpha'], lasso_results['mean_train_score'], label = 'Training R2')\n",
    "\n",
    "# set title, labels and legend\n",
    "plt.xlabel('Alphas'); plt.ylabel('R2'); plt.legend();\n",
    "plt.title('Performance vs Alpha', size=14);"
   ]
  },
  {
   "cell_type": "code",
   "execution_count": 22,
   "metadata": {},
   "outputs": [
    {
     "name": "stdout",
     "output_type": "stream",
     "text": [
      "Number of features eliminated when Lasso when lambda is 0.01 0\n",
      "Number of features eliminated when Lasso when lambda is 0.01 2\n",
      "Number of features eliminated when Lasso when lambda is 0.01 11\n"
     ]
    }
   ],
   "source": [
    "# feature coefficiens observations\n",
    "lasso_coef = sum(lasso.coef_ == 0)\n",
    "lasso2_coef = sum(lasso2.coef_ == 0)\n",
    "lasso3_coef = sum(lasso3.coef_ == 0)\n",
    "\n",
    "print(\"Number of features eliminated when Lasso when lambda is 0.01\", lasso_coef)\n",
    "print(\"Number of features eliminated when Lasso when lambda is 0.01\", lasso2_coef)\n",
    "print(\"Number of features eliminated when Lasso when lambda is 0.01\", lasso3_coef)"
   ]
  },
  {
   "cell_type": "code",
   "execution_count": 2,
   "metadata": {},
   "outputs": [
    {
     "name": "stdout",
     "output_type": "stream",
     "text": [
      "Fitting 5 folds for each of 18 candidates, totalling 90 fits\n"
     ]
    },
    {
     "name": "stderr",
     "output_type": "stream",
     "text": [
      "[Parallel(n_jobs=-1)]: Using backend LokyBackend with 8 concurrent workers.\n",
      "[Parallel(n_jobs=-1)]: Done  34 tasks      | elapsed:    1.4s\n",
      "[Parallel(n_jobs=-1)]: Done  90 out of  90 | elapsed:    1.5s finished\n",
      "/Users/cereniyim/opt/anaconda3/lib/python3.7/site-packages/sklearn/model_selection/_search.py:814: DeprecationWarning: The default of the `iid` parameter will change from True to False in version 0.22 and will be removed in 0.24. This will change numeric results when test-set sizes are unequal.\n",
      "  DeprecationWarning)\n"
     ]
    },
    {
     "data": {
      "image/png": "[encoded data removed]",
      "text/plain": [
       "<Figure size 720x720 with 1 Axes>"
      ]
     },
     "metadata": {
      "needs_background": "light"
     },
     "output_type": "display_data"
    }
   ],
   "source": [
    "from sklearn.model_selection import GridSearchCV\n",
    "import pandas as pd\n",
    "from sklearn.datasets import load_boston\n",
    "import matplotlib.pyplot as plt\n",
    "from sklearn.linear_model import Ridge\n",
    "\n",
    "#verilerin yüklenmesi\n",
    "boston = load_boston()\n",
    "X = boston.data\n",
    "y = boston.target\n",
    "\n",
    "# 1. Grid Seacrh (Izgara Arama Algoritması)\n",
    "# Arama alanının yaratılması 0.001'den 100'e kadar\n",
    "alphas_grid = {'alpha': [0.001, 0.002, 0.1, 0.2, 0.5, 0.75, 1, 2, 3, 4, 5, 6, 7, 8, 9, 10, 50, 100]}\n",
    "\n",
    "# modelin yaratılması\n",
    "ridge_search_model = Ridge()\n",
    "\n",
    "# Grid search objesinin model, alpha alanı ve 5 katlı çapraz geçerlilik kullanılarak yaratılması\n",
    "# R2 metriği ile ölçümlenmesi\n",
    "grid_search = GridSearchCV(estimator = ridge_search_model, param_grid=alphas_grid, \n",
    "                           cv = 5, scoring = 'r2', verbose = 1,\n",
    "                           n_jobs = -1, return_train_score = True)\n",
    "\n",
    "# grid search objesinin verilerle eğitilmesi\n",
    "grid_search.fit(X, y)\n",
    "\n",
    "# 2. Sonuçların görselleştirilmesi\n",
    "# Sonuçların veri çerçevesi olarak kaydedilmesi\n",
    "ridge_results = pd.DataFrame(grid_search.cv_results_)\n",
    "\n",
    "# Eğitim ve test hatasının alpha alanı ile görselleştirilmesi\n",
    "plt.figure(figsize=(10,10))\n",
    "plt.plot(ridge_results['param_alpha'], ridge_results['mean_test_score'], label = 'Testing R2')\n",
    "plt.plot(ridge_results['param_alpha'], ridge_results['mean_train_score'], label = 'Training R2')\n",
    "\n",
    "# lejand, x ve y ekseninin adlandırılması, başlıklandırma\n",
    "plt.xlabel('Alpha Values'); plt.ylabel('R2'); plt.legend();\n",
    "plt.title('Performance vs Alpha', size=14);"
   ]
  },
  {
   "cell_type": "code",
   "execution_count": null,
   "metadata": {},
   "outputs": [],
   "source": []
  }
 ],
 "metadata": {
  "kernelspec": {
   "display_name": "Python 3",
   "language": "python",
   "name": "python3"
  },
  "language_info": {
   "codemirror_mode": {
    "name": "ipython",
    "version": 3
   },
   "file_extension": ".py",
   "mimetype": "text/x-python",
   "name": "python",
   "nbconvert_exporter": "python",
   "pygments_lexer": "ipython3",
   "version": "3.7.4"
  },
  "varInspector": {
   "cols": {
    "lenName": 16,
    "lenType": 16,
    "lenVar": 40
   },
   "kernels_config": {
    "python": {
     "delete_cmd_postfix": "",
     "delete_cmd_prefix": "del ",
     "library": "var_list.py",
     "varRefreshCmd": "print(var_dic_list())"
    },
    "r": {
     "delete_cmd_postfix": ") ",
     "delete_cmd_prefix": "rm(",
     "library": "var_list.r",
     "varRefreshCmd": "cat(var_dic_list()) "
    }
   },
   "types_to_exclude": [
    "module",
    "function",
    "builtin_function_or_method",
    "instance",
    "_Feature"
   ],
   "window_display": false
  }
 },
 "nbformat": 4,
 "nbformat_minor": 2
}
